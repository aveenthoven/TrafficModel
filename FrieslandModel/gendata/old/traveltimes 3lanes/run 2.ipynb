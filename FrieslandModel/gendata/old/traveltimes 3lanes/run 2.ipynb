{
 "cells": [
  {
   "cell_type": "code",
   "execution_count": 1,
   "id": "709fa602",
   "metadata": {
    "execution": {
     "iopub.execute_input": "2024-10-31T15:29:40.536734Z",
     "iopub.status.busy": "2024-10-31T15:29:40.535736Z",
     "iopub.status.idle": "2024-10-31T15:29:45.201037Z",
     "shell.execute_reply": "2024-10-31T15:29:45.200038Z"
    },
    "papermill": {
     "duration": 4.676364,
     "end_time": "2024-10-31T15:29:45.204039",
     "exception": false,
     "start_time": "2024-10-31T15:29:40.527675",
     "status": "completed"
    },
    "tags": []
   },
   "outputs": [],
   "source": [
    "import numpy as np\n",
    "import networkx as nx\n",
    "# import rustworkx as nx\n",
    "import pandas as pd\n",
    "import geopandas as gpd\n",
    "import matplotlib.pyplot as plt\n",
    "from matplotlib.animation import FuncAnimation\n",
    "from itertools import islice\n",
    "# %matplotlib qt\n",
    "\n",
    "import shapely\n",
    "import matplotlib.patheffects as pe\n",
    "import contextily as cx\n",
    "import json"
   ]
  },
  {
   "cell_type": "code",
   "execution_count": 2,
   "id": "4ec53e04",
   "metadata": {
    "execution": {
     "iopub.execute_input": "2024-10-31T15:29:45.226208Z",
     "iopub.status.busy": "2024-10-31T15:29:45.225209Z",
     "iopub.status.idle": "2024-10-31T15:29:45.281253Z",
     "shell.execute_reply": "2024-10-31T15:29:45.280254Z"
    },
    "papermill": {
     "duration": 0.071028,
     "end_time": "2024-10-31T15:29:45.284255",
     "exception": false,
     "start_time": "2024-10-31T15:29:45.213227",
     "status": "completed"
    },
    "tags": []
   },
   "outputs": [],
   "source": [
    "def distribute(needs,space): #distributes cars, there might be a faster way, but i cannot think of one right now\n",
    "    endresult=np.zeros(len(needs),dtype=int)\n",
    "    # filter=needs\n",
    "    while space>=np.sum((needs>0)):\n",
    "        add=min(np.min(needs[needs>0]),space//np.sum((needs>0)))\n",
    "        endresult[needs>0]+=add\n",
    "        space-=add*np.sum((needs>0))\n",
    "        needs[needs>0]-=add\n",
    "    endresult[np.nonzero(needs>0)[0][:space]]+=1\n",
    "    return endresult\n",
    "class edge(object):\n",
    "    def __init__(self,length,speed,lanes,laneboundaries=None,id=0):\n",
    "        self.length = int(length)\n",
    "        self.lanes = int(lanes)\n",
    "        if laneboundaries==None: laneboundaries=(int(lanes),int(lanes))\n",
    "        self.basespeed=int(speed)\n",
    "        self.speed=int(speed)\n",
    "        self.cars = np.zeros((int(lanes*length/(4.5+speed/1.8)),5)) #collums: occupied,age,remaining travel time, spawnpoint, destination\n",
    "        self.C0=int(lanes*length/(4.5+speed/1.8))\n",
    "        self.Cmax=int(laneboundaries[1]*length/(4.5+speed/1.8))\n",
    "        self.id=id\n",
    "        self.leftthismin_avg=0\n",
    "        self.leftthismin=0\n",
    "        self.minlanes,self.maxlanes=laneboundaries\n",
    "    def __str__(self): \n",
    "        return f\"edge {self.id} cars:{np.sum(self.cars[:,0])}\"\n",
    "    def __repr__(self): \n",
    "        return f\"edge {self.id} cars:{np.sum(self.cars[:,0])}\"\n",
    "    def C(self): #capacity of edge\n",
    "        return int(self.lanes*self.length/(4.5+self.speed/1.8))\n",
    "    def tto(self):\n",
    "        return self.length/self.speed*60/1000\n",
    "    def update(self):\n",
    "        Filter = np.nonzero(self.cars[:,0]==1)[0] #Filter for \n",
    "        self.cars[Filter,2] -= 1 #travelled one minute\n",
    "        self.cars[Filter,1] += 1 #aged one minute\n",
    "        if self.size()>0.9*self.C():\n",
    "            if self.lanes<self.maxlanes:\n",
    "                print(f\"spitsstrook open op {self}\")\n",
    "                self.lanes+=1\n",
    "                self.cars=np.concatenate((self.cars,np.zeros((self.C()-len(self.cars),5))))\n",
    "            elif self.size()>0.9*self.Cmax and self.speed>0.5*self.basespeed:\n",
    "                print(f\"file op {self},speed is now {self.speed}\")\n",
    "                self.speed-=.1*self.basespeed\n",
    "                self.cars=np.concatenate((self.cars,np.zeros((self.C()-len(self.cars),5))))\n",
    "        self.leftthismin_avg=(1-smoothing)*self.leftthismin_avg+smoothing*self.leftthismin\n",
    "        self.leftthismin=0\n",
    "    def tt_avg(self):\n",
    "        if np.sum(self.cars[:,0])==0: return self.tto()*0.1 #defaults to tt0 if road is empty\n",
    "        else: return (max(np.sum(self.cars[self.cars[:,2]>0,2]),1)/np.sum(self.cars[:,0])) #otherwise average the traveltime\n",
    "    def avg_waittime(self):\n",
    "        \"\"\"average time a car waits to pass through node\"\"\"\n",
    "        if np.sum(self.cars[:,2]<0)==0: return 0\n",
    "        else: return -np.average(self.cars[self.cars[:,2]<0,2])\n",
    "    def tt(self):\n",
    "        return self.tto()*(1+0.15*(self.size()/self.C())**4)\n",
    "    def size(self):\n",
    "        return sum(self.cars[:,0])\n",
    "class node(object):\n",
    "    def __init__(self,inputs=[],output=[],destinations=[],id=0,average=85,sd=1.5):\n",
    "        self.id=id\n",
    "        self.output = output\n",
    "        self.input = inputs\n",
    "        self.destinations=destinations\n",
    "        self.dest_weights=[]\n",
    "        self.waitlist=dict(zip(self.output,[dict(zip(self.input,[np.zeros(0,dtype=int) for j in self.input]))for i in self.output]))\n",
    "        for i in self.waitlist.keys():\n",
    "            self.waitlist[i][\"self\"]=np.array([],dtype=int)        \n",
    "        self.buildup=np.zeros((0,5))\n",
    "        self.times=np.zeros((0,2)) #array with first collumn as times, and second as origins\n",
    "        self.choices=np.empty(0,dtype=edge)\n",
    "        self.gen_average=average\n",
    "        self.gen_sd=sd\n",
    "    def initwaitlist(self):\n",
    "        if len(self.waitlist.keys())>0: print(\"waitlist already had keys\",self.waitlist); return\n",
    "        else: self.waitlist=dict(zip(self.output,[dict(zip(self.input,[np.zeros(0,dtype=int) for j in self.input]))for i in self.output]))\n",
    "    def __str__(self): \n",
    "        if len(self.buildup): return f\"node {self.id} with input: {[i.id for i in self.input]} and output: {[i.id for i in self.output]} and buildup:{len(self.buildup)}\"\n",
    "        else: return f\"node {self.id} with input: {[i.id for i in self.input]} and output: {[i.id for i in self.output]}\"\n",
    "    def __repr__(self): \n",
    "        if len(self.buildup): return f\"node {self.id} with input: {[i.id for i in self.input]} and output: {[i.id for i in self.output]} and buildup:{len(self.buildup)}\"\n",
    "        else: return f\"node {self.id} with input: {[i.id for i in self.input]} and output: {[i.id for i in self.output]}\"\n",
    "    def size(self):\n",
    "        return len(self.buildup)    \n",
    "    def avg_waittime(self,edge_out):\n",
    "        if edge_out not in self.output: print(f\"what ya doing mate {edge_out} does not exit {self}\")\n",
    "        carswaiting=np.concatenate([i.cars[self.waitlist[edge_out][i],2] for i in self.input])\n",
    "        if len(carswaiting)==0: return 0.00001\n",
    "        else:return -np.average(carswaiting)\n",
    "    def flow(self):\n",
    "        for i in self.input: #putting stuff in waitlist\n",
    "            Remove=np.nonzero(np.logical_and(i.cars[:,4]==self.id,np.logical_and(i.cars[:,2]<=0,i.cars[:,0]==1)))[0]\n",
    "            self.times=np.concatenate((self.times,i.cars[Remove,:][:,[1,3]])) #remove all cars that have arrived at their destination\n",
    "            i.cars[Remove,:]=0\n",
    "            i.leftthismin+=len(Remove)\n",
    "            # if self.id==2: print(f\"recieved {len(Remove)} cars from {i}\")\n",
    "            if self.output==[]:print(f\"node {self.id} had no output roads\") ;continue\n",
    "            Filter2 = np.nonzero(np.logical_and(i.cars[:,2]==0,i.cars[:,0]==1))[0] #check which cars arrived now\n",
    "            if len(self.output)==len(self.input)==2: choices=np.full(len(Filter2),[edges for edges in self.output if edges.id !=(i.id[1],i.id[0])][0]) #cars are not allowed to go back, so this is the only option for cars\n",
    "            elif len(self.output) == 1:\n",
    "                choices = np.full(len(Filter2), self.output[0])\n",
    "            else:\n",
    "                handling=i.cars[Filter2,:] #cars that need to be handled this function call\n",
    "                choices=np.empty(len(handling),dtype=edge)\n",
    "                for dest in np.unique(handling[:,4]):\n",
    "                    routes=list(islice(nx.shortest_simple_paths(gfd,self.id,dest,weight=\"tt_avg\"),len(self.output)-1))\n",
    "                    a=[gfd.edges[path[:2]][\"object\"]for path in routes]\n",
    "                    if len(a) == 0:\n",
    "                        print(f\"self = {self}\")\n",
    "                        print(f\"routes = {routes}\")\n",
    "                        print(f\"dest = {dest}\")\n",
    "                    weights=1/np.array([nx.path_weight(gfd,path,weight=\"tt_avg\") for path in routes])\n",
    "                    rander=np.random.choice(a,size=sum(handling[:,4]==dest),p=weights/np.sum(weights)) #randomly choose next edge\n",
    "                    choices[handling[:,4]==dest]=rander\n",
    "            for indexes in choices:\n",
    "                if indexes not in self.output: print(\"fuck\")\n",
    "            for j in self.output:\n",
    "                self.waitlist[j][i]=np.concatenate((self.waitlist[j][i],np.array(Filter2[choices==j],dtype=int))) #add new indexes along with their location at the end\n",
    "        if len(self.buildup)-len(self.choices)>0: #handle buildup caused by generate\n",
    "            handling=self.buildup[len(self.choices)-len(self.buildup):] #self.buildup[len(self.choices)-len(self.buildup):] should be the cars not handled yet\n",
    "            if len(self.output)==1: choices=np.full(len(self.buildup)-len(self.choices),self.output[0])\n",
    "            elif len(self.output)==len(self.input)==2: choices=np.array([gfd.edges[paths[self.id][endgoal][:2]][\"object\"] for endgoal in handling[:,4]]) #2 edges means we only randomly choose out of 1 option, so might as well take that one immediatly\n",
    "            else:   \n",
    "                choices=np.empty(len(handling),dtype=edge)\n",
    "                for dest in np.unique(handling[:,4]): \n",
    "                    routes=list(islice(nx.shortest_simple_paths(gfd,self.id,dest,weight=\"tt_avg\"),len(self.output)-1))\n",
    "                    a=[gfd.edges[path[:2]][\"object\"]for path in routes]\n",
    "                    weights=1/np.array([nx.path_weight(gfd,path,weight=\"tt_avg\") for path in routes])\n",
    "                    rander=np.random.choice(a,size=sum(handling[:,4]==dest),p=weights/np.sum(weights)) #randomly choose next edge\n",
    "                    choices[handling[:,4]==dest]=rander\n",
    "            self.choices=np.concatenate((self.choices,choices))\n",
    "            if len(self.choices)!=len(self.buildup): print(\"oi wtf\")\n",
    "            for o in self.output:\n",
    "                self.waitlist[o][\"self\"]=np.nonzero(self.choices==o)[0]\n",
    "                # if testing_buildup==True: print(self.waitlist[o][\"self\"],self,o)\n",
    "        elif self.id in list(sources):\n",
    "            # print(\"no buildup on\",self)\n",
    "            for o in self.output:\n",
    "                self.waitlist[o][\"self\"]=np.array([],dtype=int)\n",
    "        for i in self.output:#getting stuff out of waitlist\n",
    "            if sum([len(self.waitlist[i][j]) for j in self.input])+len(self.waitlist[i][\"self\"])==0: continue #doesn't need to do anything if there are no cars waiting\n",
    "            elif sum([len(self.waitlist[i][j]) for j in self.input])+len(self.waitlist[i][\"self\"])<=np.sum(i.cars[:,0]==0):\n",
    "                for j in self.input:\n",
    "                    Filter=np.nonzero(i.cars[:,0]==0)[0][:len(self.waitlist[i][j])]\n",
    "                    j.leftthismin+=len(Filter)\n",
    "                    i.cars[Filter]=j.cars[self.waitlist[i][j],:] #put cars in next edge\n",
    "                    i.cars[Filter,2]=np.maximum(np.ceil(i.tt()+np.random.normal(0,i.tto()/10,size=len(Filter))),1)\n",
    "                    j.cars[self.waitlist[i][j],:]=0 #empty the cars\n",
    "                    self.waitlist[i][j]=np.zeros(0,dtype=int) #empty waitlist\n",
    "                Filter=np.nonzero(i.cars[:,0]==0)[0][:len(self.waitlist[i][\"self\"])]\n",
    "                i.cars[Filter]=self.buildup[self.waitlist[i][\"self\"],:]\n",
    "                i.cars[Filter,2]=np.maximum(np.ceil(i.tt()+np.random.normal(0,i.tto()/10,size=len(Filter))),1)\n",
    "                self.buildup[self.waitlist[i][\"self\"],0]=0\n",
    "            else:\n",
    "                space=np.sum(i.cars[:,0]==0)\n",
    "                needs=np.array([len(self.waitlist[i][j]) for j in self.input]+[len(self.waitlist[i][\"self\"])])\n",
    "                allowances=distribute(needs,space)\n",
    "                for k,j in enumerate(self.input):\n",
    "                    j.leftthismin+=allowances[k]\n",
    "                    Filter=np.nonzero(i.cars[:,0]==0)[0][:allowances[k]]\n",
    "                    i.cars[Filter]=j.cars[self.waitlist[i][j][:allowances[k]]] ###probs dont need [Filtertje,:] [Filtertje] seems enough\n",
    "                    i.cars[Filter,2]=np.maximum(np.ceil(i.tt()+np.random.normal(0,i.tto()/10,size=len(Filter))),1)\n",
    "                    j.cars[self.waitlist[i][j][:allowances[k]],:]=0 #empty the cars\n",
    "                    self.waitlist[i][j]=self.waitlist[i][j][allowances[k]:]\n",
    "                #handle buildup\n",
    "                Filter=np.nonzero(i.cars[:,0]==0)[0][:allowances[-1]]\n",
    "                i.cars[Filter]=self.buildup[self.waitlist[i][\"self\"][:allowances[-1]]] ###probs dont need [Filtertje,:] [Filtertje] seems enough\n",
    "                i.cars[Filter,2]=np.maximum(np.ceil(i.tt()+np.random.normal(0,i.tto()/10,size=len(Filter))),1)\n",
    "                self.buildup[self.waitlist[i][\"self\"][:allowances[-1]],0]=0 #empty the cars\n",
    "    def generate(self,destinations=[2]): ##change code to account for more generating cities and differing distributions\n",
    "        N=max(0, int(np.random.normal(self.gen_average,self.gen_sd)+0.5)) #+.5 rounds it to the nearest integer\n",
    "        self.choices=self.choices[self.buildup[:,0]!=0]\n",
    "        self.buildup=self.buildup[self.buildup[:,0]!=0]\n",
    "        # self.buildup[:,1]+=1 #only leave if we allow cars to age while waiting in cities\n",
    "        newcars=np.array([np.ones(N),np.zeros(N),np.random.normal(0,1,size=N),np.full(N,self.id),np.random.choice(self.destinations,N,p=self.dest_weights)]).transpose()\n",
    "        self.buildup=np.concatenate((self.buildup,newcars)) #needs to handle the built up cars first"
   ]
  },
  {
   "cell_type": "markdown",
   "id": "88cc562e",
   "metadata": {
    "papermill": {
     "duration": 0.020739,
     "end_time": "2024-10-31T15:29:45.324137",
     "exception": false,
     "start_time": "2024-10-31T15:29:45.303398",
     "status": "completed"
    },
    "tags": []
   },
   "source": [
    "# Initialization"
   ]
  },
  {
   "cell_type": "code",
   "execution_count": 3,
   "id": "16345396",
   "metadata": {
    "execution": {
     "iopub.execute_input": "2024-10-31T15:29:45.403329Z",
     "iopub.status.busy": "2024-10-31T15:29:45.403329Z",
     "iopub.status.idle": "2024-10-31T15:29:45.410216Z",
     "shell.execute_reply": "2024-10-31T15:29:45.410216Z"
    },
    "papermill": {
     "duration": 0.200013,
     "end_time": "2024-10-31T15:29:45.550575",
     "exception": false,
     "start_time": "2024-10-31T15:29:45.350562",
     "status": "completed"
    },
    "tags": []
   },
   "outputs": [
    {
     "data": {
      "text/plain": [
       "array([75.77491686, 35.55233611, 26.95070956, 12.0114583 , 10.32037141,\n",
       "       10.55348853, 10.28481117, 10.24529979,  8.19465938,  7.9971025 ,\n",
       "        7.8706661 , 24.2441803 ])"
      ]
     },
     "execution_count": 3,
     "metadata": {},
     "output_type": "execute_result"
    }
   ],
   "source": [
    "pops=np.array([95890,44990,34105,15200,13060, 13355, 13015,12965,10370,10120,9960,30680])\n",
    "20*12*pops/np.sum(pops)"
   ]
  },
  {
   "cell_type": "code",
   "execution_count": 4,
   "id": "a1eaa021",
   "metadata": {
    "execution": {
     "iopub.execute_input": "2024-10-31T15:29:45.639793Z",
     "iopub.status.busy": "2024-10-31T15:29:45.639793Z",
     "iopub.status.idle": "2024-10-31T15:29:45.644408Z",
     "shell.execute_reply": "2024-10-31T15:29:45.644060Z"
    },
    "papermill": {
     "duration": 0.148519,
     "end_time": "2024-10-31T15:29:45.743411",
     "exception": false,
     "start_time": "2024-10-31T15:29:45.594892",
     "status": "completed"
    },
    "tags": []
   },
   "outputs": [],
   "source": [
    "smoothing=1/10\n",
    "runnr=999\n",
    "stadnamen=['Leeuwarden', 'Drachten', 'Sneek', 'Heerenveen', 'Harlingen','Joure', 'Wolvega', 'Franeker', 'Dokkum', 'Lemmer', 'Bolsward','Burgum']\n",
    "# spawn_hoeveelheden={160: 12, 199: 25, 'Leeuwarden': 56, 'Drachten': 36, 'Sneek': 35, 'Harlingen': 13.086859668020224, 'Joure': 10, 'Wolvega': 11, 'Franeker': 10, 'Dokkum': 8.980727539476826, 'Lemmer': 10, 'Bolsward': 9.477514803509319, 'Burgum': 10, 'Heerenveen': 24}\n",
    "spawn_hoeveelheden={\n",
    "    160: 4.39, #oosterwolde\n",
    "    199: 10.8, #afsluitdijk\n",
    "    93: 33.86, # verbinding A7 Friesland-Groningen\n",
    "    33: 3.7, # verbinding N355 Friesland-Groningen\n",
    "    157: 4.56, # verbinding N919 Friesland-Drenthe (Assen)\n",
    "    18: 10.14, # verbinding N381 Friesland-Drenthe\n",
    "    181: 19.04, # verbinding A32 Friesland-Overijssel\n",
    "    185: 24.02, # verbinding A6 Friesland-Flevoland\n",
    "    'Leeuwarden': 42.9 * 1.5, \n",
    "    'Drachten': 32.1, # 20.1 \n",
    "    'Sneek': 15.25 * 1.4, \n",
    "    'Harlingen': 6.8 * 1.2, \n",
    "    'Joure': 5.84 * 1.2, \n",
    "    'Wolvega': 5.97 * 1.2, \n",
    "    'Franeker': 5.83 * 1.2, \n",
    "    'Dokkum': 5.8 * 1.2,\n",
    "    'Lemmer': 4.64 * 1.2,\n",
    "    'Bolsward': 4.53 * 1.2, \n",
    "    'Burgum': 4.46 * 1.2,\n",
    "    'Heerenveen': 13.7 * 1.4}"
   ]
  },
  {
   "cell_type": "code",
   "execution_count": 5,
   "id": "f43fc232",
   "metadata": {
    "execution": {
     "iopub.execute_input": "2024-10-31T15:29:45.797753Z",
     "iopub.status.busy": "2024-10-31T15:29:45.796752Z",
     "iopub.status.idle": "2024-10-31T15:29:46.169402Z",
     "shell.execute_reply": "2024-10-31T15:29:46.168319Z"
    },
    "papermill": {
     "duration": 0.425871,
     "end_time": "2024-10-31T15:29:46.197710",
     "exception": false,
     "start_time": "2024-10-31T15:29:45.771839",
     "status": "completed"
    },
    "tags": []
   },
   "outputs": [
    {
     "name": "stderr",
     "output_type": "stream",
     "text": [
      "C:\\Users\\Alexander\\AppData\\Local\\Temp\\ipykernel_7096\\173192829.py:23: FutureWarning: ChainedAssignmentError: behaviour will change in pandas 3.0!\n",
      "You are setting values through chained assignment. Currently this works in certain cases, but when using Copy-on-Write (which will become the default behaviour in pandas 3.0) this will never work to update the original DataFrame or Series, because the intermediate object on which we are setting values will behave as a copy.\n",
      "A typical example is when you are setting values in a column of a DataFrame, like:\n",
      "\n",
      "df[\"col\"][row_indexer] = value\n",
      "\n",
      "Use `df.loc[row_indexer, \"col\"] = values` instead, to perform the assignment in a single step and ensure this keeps updating the original `df`.\n",
      "\n",
      "See the caveats in the documentation: https://pandas.pydata.org/pandas-docs/stable/user_guide/indexing.html#returning-a-view-versus-a-copy\n",
      "\n",
      "  nodes_gpd[\"is_auto_br\"][np.isnan(nodes_gpd[\"is_auto_br\"])]=0\n",
      "C:\\Users\\Alexander\\AppData\\Local\\Temp\\ipykernel_7096\\173192829.py:23: SettingWithCopyWarning: \n",
      "A value is trying to be set on a copy of a slice from a DataFrame\n",
      "\n",
      "See the caveats in the documentation: https://pandas.pydata.org/pandas-docs/stable/user_guide/indexing.html#returning-a-view-versus-a-copy\n",
      "  nodes_gpd[\"is_auto_br\"][np.isnan(nodes_gpd[\"is_auto_br\"])]=0\n",
      "C:\\Users\\Alexander\\AppData\\Local\\Temp\\ipykernel_7096\\173192829.py:24: FutureWarning: ChainedAssignmentError: behaviour will change in pandas 3.0!\n",
      "You are setting values through chained assignment. Currently this works in certain cases, but when using Copy-on-Write (which will become the default behaviour in pandas 3.0) this will never work to update the original DataFrame or Series, because the intermediate object on which we are setting values will behave as a copy.\n",
      "A typical example is when you are setting values in a column of a DataFrame, like:\n",
      "\n",
      "df[\"col\"][row_indexer] = value\n",
      "\n",
      "Use `df.loc[row_indexer, \"col\"] = values` instead, to perform the assignment in a single step and ensure this keeps updating the original `df`.\n",
      "\n",
      "See the caveats in the documentation: https://pandas.pydata.org/pandas-docs/stable/user_guide/indexing.html#returning-a-view-versus-a-copy\n",
      "\n",
      "  nodes_gpd[\"spawn_hoev\"][np.isnan(nodes_gpd[\"spawn_hoev\"])]=0\n",
      "C:\\Users\\Alexander\\AppData\\Local\\Temp\\ipykernel_7096\\173192829.py:24: SettingWithCopyWarning: \n",
      "A value is trying to be set on a copy of a slice from a DataFrame\n",
      "\n",
      "See the caveats in the documentation: https://pandas.pydata.org/pandas-docs/stable/user_guide/indexing.html#returning-a-view-versus-a-copy\n",
      "  nodes_gpd[\"spawn_hoev\"][np.isnan(nodes_gpd[\"spawn_hoev\"])]=0\n",
      "C:\\Users\\Alexander\\AppData\\Local\\Temp\\ipykernel_7096\\173192829.py:33: FutureWarning: ChainedAssignmentError: behaviour will change in pandas 3.0!\n",
      "You are setting values through chained assignment. Currently this works in certain cases, but when using Copy-on-Write (which will become the default behaviour in pandas 3.0) this will never work to update the original DataFrame or Series, because the intermediate object on which we are setting values will behave as a copy.\n",
      "A typical example is when you are setting values in a column of a DataFrame, like:\n",
      "\n",
      "df[\"col\"][row_indexer] = value\n",
      "\n",
      "Use `df.loc[row_indexer, \"col\"] = values` instead, to perform the assignment in a single step and ensure this keeps updating the original `df`.\n",
      "\n",
      "See the caveats in the documentation: https://pandas.pydata.org/pandas-docs/stable/user_guide/indexing.html#returning-a-view-versus-a-copy\n",
      "\n",
      "  nodes_gpd[\"spawn_hoev\"][nodes_gpd[\"nodeID\"]==k],nodes_gpd[\"is_auto_br\"][nodes_gpd[\"nodeID\"]==k] = v, 1\n",
      "C:\\Users\\Alexander\\AppData\\Local\\Temp\\ipykernel_7096\\173192829.py:33: SettingWithCopyWarning: \n",
      "A value is trying to be set on a copy of a slice from a DataFrame\n",
      "\n",
      "See the caveats in the documentation: https://pandas.pydata.org/pandas-docs/stable/user_guide/indexing.html#returning-a-view-versus-a-copy\n",
      "  nodes_gpd[\"spawn_hoev\"][nodes_gpd[\"nodeID\"]==k],nodes_gpd[\"is_auto_br\"][nodes_gpd[\"nodeID\"]==k] = v, 1\n",
      "C:\\Users\\Alexander\\AppData\\Local\\Temp\\ipykernel_7096\\173192829.py:33: FutureWarning: ChainedAssignmentError: behaviour will change in pandas 3.0!\n",
      "You are setting values through chained assignment. Currently this works in certain cases, but when using Copy-on-Write (which will become the default behaviour in pandas 3.0) this will never work to update the original DataFrame or Series, because the intermediate object on which we are setting values will behave as a copy.\n",
      "A typical example is when you are setting values in a column of a DataFrame, like:\n",
      "\n",
      "df[\"col\"][row_indexer] = value\n",
      "\n",
      "Use `df.loc[row_indexer, \"col\"] = values` instead, to perform the assignment in a single step and ensure this keeps updating the original `df`.\n",
      "\n",
      "See the caveats in the documentation: https://pandas.pydata.org/pandas-docs/stable/user_guide/indexing.html#returning-a-view-versus-a-copy\n",
      "\n",
      "  nodes_gpd[\"spawn_hoev\"][nodes_gpd[\"nodeID\"]==k],nodes_gpd[\"is_auto_br\"][nodes_gpd[\"nodeID\"]==k] = v, 1\n",
      "C:\\Users\\Alexander\\AppData\\Local\\Temp\\ipykernel_7096\\173192829.py:33: SettingWithCopyWarning: \n",
      "A value is trying to be set on a copy of a slice from a DataFrame\n",
      "\n",
      "See the caveats in the documentation: https://pandas.pydata.org/pandas-docs/stable/user_guide/indexing.html#returning-a-view-versus-a-copy\n",
      "  nodes_gpd[\"spawn_hoev\"][nodes_gpd[\"nodeID\"]==k],nodes_gpd[\"is_auto_br\"][nodes_gpd[\"nodeID\"]==k] = v, 1\n",
      "C:\\Users\\Alexander\\AppData\\Local\\Temp\\ipykernel_7096\\173192829.py:33: FutureWarning: ChainedAssignmentError: behaviour will change in pandas 3.0!\n",
      "You are setting values through chained assignment. Currently this works in certain cases, but when using Copy-on-Write (which will become the default behaviour in pandas 3.0) this will never work to update the original DataFrame or Series, because the intermediate object on which we are setting values will behave as a copy.\n",
      "A typical example is when you are setting values in a column of a DataFrame, like:\n",
      "\n",
      "df[\"col\"][row_indexer] = value\n",
      "\n",
      "Use `df.loc[row_indexer, \"col\"] = values` instead, to perform the assignment in a single step and ensure this keeps updating the original `df`.\n",
      "\n",
      "See the caveats in the documentation: https://pandas.pydata.org/pandas-docs/stable/user_guide/indexing.html#returning-a-view-versus-a-copy\n",
      "\n",
      "  nodes_gpd[\"spawn_hoev\"][nodes_gpd[\"nodeID\"]==k],nodes_gpd[\"is_auto_br\"][nodes_gpd[\"nodeID\"]==k] = v, 1\n",
      "C:\\Users\\Alexander\\AppData\\Local\\Temp\\ipykernel_7096\\173192829.py:33: SettingWithCopyWarning: \n",
      "A value is trying to be set on a copy of a slice from a DataFrame\n",
      "\n",
      "See the caveats in the documentation: https://pandas.pydata.org/pandas-docs/stable/user_guide/indexing.html#returning-a-view-versus-a-copy\n",
      "  nodes_gpd[\"spawn_hoev\"][nodes_gpd[\"nodeID\"]==k],nodes_gpd[\"is_auto_br\"][nodes_gpd[\"nodeID\"]==k] = v, 1\n",
      "C:\\Users\\Alexander\\AppData\\Local\\Temp\\ipykernel_7096\\173192829.py:33: FutureWarning: ChainedAssignmentError: behaviour will change in pandas 3.0!\n",
      "You are setting values through chained assignment. Currently this works in certain cases, but when using Copy-on-Write (which will become the default behaviour in pandas 3.0) this will never work to update the original DataFrame or Series, because the intermediate object on which we are setting values will behave as a copy.\n",
      "A typical example is when you are setting values in a column of a DataFrame, like:\n",
      "\n",
      "df[\"col\"][row_indexer] = value\n",
      "\n",
      "Use `df.loc[row_indexer, \"col\"] = values` instead, to perform the assignment in a single step and ensure this keeps updating the original `df`.\n",
      "\n",
      "See the caveats in the documentation: https://pandas.pydata.org/pandas-docs/stable/user_guide/indexing.html#returning-a-view-versus-a-copy\n",
      "\n",
      "  nodes_gpd[\"spawn_hoev\"][nodes_gpd[\"nodeID\"]==k],nodes_gpd[\"is_auto_br\"][nodes_gpd[\"nodeID\"]==k] = v, 1\n",
      "C:\\Users\\Alexander\\AppData\\Local\\Temp\\ipykernel_7096\\173192829.py:33: SettingWithCopyWarning: \n",
      "A value is trying to be set on a copy of a slice from a DataFrame\n",
      "\n",
      "See the caveats in the documentation: https://pandas.pydata.org/pandas-docs/stable/user_guide/indexing.html#returning-a-view-versus-a-copy\n",
      "  nodes_gpd[\"spawn_hoev\"][nodes_gpd[\"nodeID\"]==k],nodes_gpd[\"is_auto_br\"][nodes_gpd[\"nodeID\"]==k] = v, 1\n",
      "C:\\Users\\Alexander\\AppData\\Local\\Temp\\ipykernel_7096\\173192829.py:33: FutureWarning: ChainedAssignmentError: behaviour will change in pandas 3.0!\n",
      "You are setting values through chained assignment. Currently this works in certain cases, but when using Copy-on-Write (which will become the default behaviour in pandas 3.0) this will never work to update the original DataFrame or Series, because the intermediate object on which we are setting values will behave as a copy.\n",
      "A typical example is when you are setting values in a column of a DataFrame, like:\n",
      "\n",
      "df[\"col\"][row_indexer] = value\n",
      "\n",
      "Use `df.loc[row_indexer, \"col\"] = values` instead, to perform the assignment in a single step and ensure this keeps updating the original `df`.\n",
      "\n",
      "See the caveats in the documentation: https://pandas.pydata.org/pandas-docs/stable/user_guide/indexing.html#returning-a-view-versus-a-copy\n",
      "\n",
      "  nodes_gpd[\"spawn_hoev\"][nodes_gpd[\"nodeID\"]==k],nodes_gpd[\"is_auto_br\"][nodes_gpd[\"nodeID\"]==k] = v, 1\n",
      "C:\\Users\\Alexander\\AppData\\Local\\Temp\\ipykernel_7096\\173192829.py:33: SettingWithCopyWarning: \n",
      "A value is trying to be set on a copy of a slice from a DataFrame\n",
      "\n",
      "See the caveats in the documentation: https://pandas.pydata.org/pandas-docs/stable/user_guide/indexing.html#returning-a-view-versus-a-copy\n",
      "  nodes_gpd[\"spawn_hoev\"][nodes_gpd[\"nodeID\"]==k],nodes_gpd[\"is_auto_br\"][nodes_gpd[\"nodeID\"]==k] = v, 1\n",
      "C:\\Users\\Alexander\\AppData\\Local\\Temp\\ipykernel_7096\\173192829.py:33: FutureWarning: ChainedAssignmentError: behaviour will change in pandas 3.0!\n",
      "You are setting values through chained assignment. Currently this works in certain cases, but when using Copy-on-Write (which will become the default behaviour in pandas 3.0) this will never work to update the original DataFrame or Series, because the intermediate object on which we are setting values will behave as a copy.\n",
      "A typical example is when you are setting values in a column of a DataFrame, like:\n",
      "\n",
      "df[\"col\"][row_indexer] = value\n",
      "\n",
      "Use `df.loc[row_indexer, \"col\"] = values` instead, to perform the assignment in a single step and ensure this keeps updating the original `df`.\n",
      "\n",
      "See the caveats in the documentation: https://pandas.pydata.org/pandas-docs/stable/user_guide/indexing.html#returning-a-view-versus-a-copy\n",
      "\n",
      "  nodes_gpd[\"spawn_hoev\"][nodes_gpd[\"nodeID\"]==k],nodes_gpd[\"is_auto_br\"][nodes_gpd[\"nodeID\"]==k] = v, 1\n",
      "C:\\Users\\Alexander\\AppData\\Local\\Temp\\ipykernel_7096\\173192829.py:33: SettingWithCopyWarning: \n",
      "A value is trying to be set on a copy of a slice from a DataFrame\n",
      "\n",
      "See the caveats in the documentation: https://pandas.pydata.org/pandas-docs/stable/user_guide/indexing.html#returning-a-view-versus-a-copy\n",
      "  nodes_gpd[\"spawn_hoev\"][nodes_gpd[\"nodeID\"]==k],nodes_gpd[\"is_auto_br\"][nodes_gpd[\"nodeID\"]==k] = v, 1\n",
      "C:\\Users\\Alexander\\AppData\\Local\\Temp\\ipykernel_7096\\173192829.py:33: FutureWarning: ChainedAssignmentError: behaviour will change in pandas 3.0!\n",
      "You are setting values through chained assignment. Currently this works in certain cases, but when using Copy-on-Write (which will become the default behaviour in pandas 3.0) this will never work to update the original DataFrame or Series, because the intermediate object on which we are setting values will behave as a copy.\n",
      "A typical example is when you are setting values in a column of a DataFrame, like:\n",
      "\n",
      "df[\"col\"][row_indexer] = value\n",
      "\n",
      "Use `df.loc[row_indexer, \"col\"] = values` instead, to perform the assignment in a single step and ensure this keeps updating the original `df`.\n",
      "\n",
      "See the caveats in the documentation: https://pandas.pydata.org/pandas-docs/stable/user_guide/indexing.html#returning-a-view-versus-a-copy\n",
      "\n",
      "  nodes_gpd[\"spawn_hoev\"][nodes_gpd[\"nodeID\"]==k],nodes_gpd[\"is_auto_br\"][nodes_gpd[\"nodeID\"]==k] = v, 1\n",
      "C:\\Users\\Alexander\\AppData\\Local\\Temp\\ipykernel_7096\\173192829.py:33: SettingWithCopyWarning: \n",
      "A value is trying to be set on a copy of a slice from a DataFrame\n",
      "\n",
      "See the caveats in the documentation: https://pandas.pydata.org/pandas-docs/stable/user_guide/indexing.html#returning-a-view-versus-a-copy\n",
      "  nodes_gpd[\"spawn_hoev\"][nodes_gpd[\"nodeID\"]==k],nodes_gpd[\"is_auto_br\"][nodes_gpd[\"nodeID\"]==k] = v, 1\n",
      "C:\\Users\\Alexander\\AppData\\Local\\Temp\\ipykernel_7096\\173192829.py:33: FutureWarning: ChainedAssignmentError: behaviour will change in pandas 3.0!\n",
      "You are setting values through chained assignment. Currently this works in certain cases, but when using Copy-on-Write (which will become the default behaviour in pandas 3.0) this will never work to update the original DataFrame or Series, because the intermediate object on which we are setting values will behave as a copy.\n",
      "A typical example is when you are setting values in a column of a DataFrame, like:\n",
      "\n",
      "df[\"col\"][row_indexer] = value\n",
      "\n",
      "Use `df.loc[row_indexer, \"col\"] = values` instead, to perform the assignment in a single step and ensure this keeps updating the original `df`.\n",
      "\n",
      "See the caveats in the documentation: https://pandas.pydata.org/pandas-docs/stable/user_guide/indexing.html#returning-a-view-versus-a-copy\n",
      "\n",
      "  nodes_gpd[\"spawn_hoev\"][nodes_gpd[\"nodeID\"]==k],nodes_gpd[\"is_auto_br\"][nodes_gpd[\"nodeID\"]==k] = v, 1\n",
      "C:\\Users\\Alexander\\AppData\\Local\\Temp\\ipykernel_7096\\173192829.py:33: SettingWithCopyWarning: \n",
      "A value is trying to be set on a copy of a slice from a DataFrame\n",
      "\n",
      "See the caveats in the documentation: https://pandas.pydata.org/pandas-docs/stable/user_guide/indexing.html#returning-a-view-versus-a-copy\n",
      "  nodes_gpd[\"spawn_hoev\"][nodes_gpd[\"nodeID\"]==k],nodes_gpd[\"is_auto_br\"][nodes_gpd[\"nodeID\"]==k] = v, 1\n",
      "C:\\Users\\Alexander\\AppData\\Local\\Temp\\ipykernel_7096\\173192829.py:33: FutureWarning: ChainedAssignmentError: behaviour will change in pandas 3.0!\n",
      "You are setting values through chained assignment. Currently this works in certain cases, but when using Copy-on-Write (which will become the default behaviour in pandas 3.0) this will never work to update the original DataFrame or Series, because the intermediate object on which we are setting values will behave as a copy.\n",
      "A typical example is when you are setting values in a column of a DataFrame, like:\n",
      "\n",
      "df[\"col\"][row_indexer] = value\n",
      "\n",
      "Use `df.loc[row_indexer, \"col\"] = values` instead, to perform the assignment in a single step and ensure this keeps updating the original `df`.\n",
      "\n",
      "See the caveats in the documentation: https://pandas.pydata.org/pandas-docs/stable/user_guide/indexing.html#returning-a-view-versus-a-copy\n",
      "\n",
      "  nodes_gpd[\"spawn_hoev\"][nodes_gpd[\"nodeID\"]==k],nodes_gpd[\"is_auto_br\"][nodes_gpd[\"nodeID\"]==k] = v, 1\n",
      "C:\\Users\\Alexander\\AppData\\Local\\Temp\\ipykernel_7096\\173192829.py:33: SettingWithCopyWarning: \n",
      "A value is trying to be set on a copy of a slice from a DataFrame\n",
      "\n",
      "See the caveats in the documentation: https://pandas.pydata.org/pandas-docs/stable/user_guide/indexing.html#returning-a-view-versus-a-copy\n",
      "  nodes_gpd[\"spawn_hoev\"][nodes_gpd[\"nodeID\"]==k],nodes_gpd[\"is_auto_br\"][nodes_gpd[\"nodeID\"]==k] = v, 1\n",
      "C:\\Users\\Alexander\\AppData\\Local\\Temp\\ipykernel_7096\\173192829.py:33: FutureWarning: ChainedAssignmentError: behaviour will change in pandas 3.0!\n",
      "You are setting values through chained assignment. Currently this works in certain cases, but when using Copy-on-Write (which will become the default behaviour in pandas 3.0) this will never work to update the original DataFrame or Series, because the intermediate object on which we are setting values will behave as a copy.\n",
      "A typical example is when you are setting values in a column of a DataFrame, like:\n",
      "\n",
      "df[\"col\"][row_indexer] = value\n",
      "\n",
      "Use `df.loc[row_indexer, \"col\"] = values` instead, to perform the assignment in a single step and ensure this keeps updating the original `df`.\n",
      "\n",
      "See the caveats in the documentation: https://pandas.pydata.org/pandas-docs/stable/user_guide/indexing.html#returning-a-view-versus-a-copy\n",
      "\n",
      "  nodes_gpd[\"spawn_hoev\"][nodes_gpd[\"nodeID\"]==k],nodes_gpd[\"is_auto_br\"][nodes_gpd[\"nodeID\"]==k] = v, 1\n",
      "C:\\Users\\Alexander\\AppData\\Local\\Temp\\ipykernel_7096\\173192829.py:33: SettingWithCopyWarning: \n",
      "A value is trying to be set on a copy of a slice from a DataFrame\n",
      "\n",
      "See the caveats in the documentation: https://pandas.pydata.org/pandas-docs/stable/user_guide/indexing.html#returning-a-view-versus-a-copy\n",
      "  nodes_gpd[\"spawn_hoev\"][nodes_gpd[\"nodeID\"]==k],nodes_gpd[\"is_auto_br\"][nodes_gpd[\"nodeID\"]==k] = v, 1\n",
      "C:\\Users\\Alexander\\AppData\\Local\\Temp\\ipykernel_7096\\173192829.py:33: FutureWarning: ChainedAssignmentError: behaviour will change in pandas 3.0!\n",
      "You are setting values through chained assignment. Currently this works in certain cases, but when using Copy-on-Write (which will become the default behaviour in pandas 3.0) this will never work to update the original DataFrame or Series, because the intermediate object on which we are setting values will behave as a copy.\n",
      "A typical example is when you are setting values in a column of a DataFrame, like:\n",
      "\n",
      "df[\"col\"][row_indexer] = value\n",
      "\n",
      "Use `df.loc[row_indexer, \"col\"] = values` instead, to perform the assignment in a single step and ensure this keeps updating the original `df`.\n",
      "\n",
      "See the caveats in the documentation: https://pandas.pydata.org/pandas-docs/stable/user_guide/indexing.html#returning-a-view-versus-a-copy\n",
      "\n",
      "  nodes_gpd[\"spawn_hoev\"][nodes_gpd[\"nodeID\"]==k],nodes_gpd[\"is_auto_br\"][nodes_gpd[\"nodeID\"]==k] = v, 1\n",
      "C:\\Users\\Alexander\\AppData\\Local\\Temp\\ipykernel_7096\\173192829.py:33: SettingWithCopyWarning: \n",
      "A value is trying to be set on a copy of a slice from a DataFrame\n",
      "\n",
      "See the caveats in the documentation: https://pandas.pydata.org/pandas-docs/stable/user_guide/indexing.html#returning-a-view-versus-a-copy\n",
      "  nodes_gpd[\"spawn_hoev\"][nodes_gpd[\"nodeID\"]==k],nodes_gpd[\"is_auto_br\"][nodes_gpd[\"nodeID\"]==k] = v, 1\n",
      "C:\\Users\\Alexander\\AppData\\Local\\Temp\\ipykernel_7096\\173192829.py:33: FutureWarning: ChainedAssignmentError: behaviour will change in pandas 3.0!\n",
      "You are setting values through chained assignment. Currently this works in certain cases, but when using Copy-on-Write (which will become the default behaviour in pandas 3.0) this will never work to update the original DataFrame or Series, because the intermediate object on which we are setting values will behave as a copy.\n",
      "A typical example is when you are setting values in a column of a DataFrame, like:\n",
      "\n",
      "df[\"col\"][row_indexer] = value\n",
      "\n",
      "Use `df.loc[row_indexer, \"col\"] = values` instead, to perform the assignment in a single step and ensure this keeps updating the original `df`.\n",
      "\n",
      "See the caveats in the documentation: https://pandas.pydata.org/pandas-docs/stable/user_guide/indexing.html#returning-a-view-versus-a-copy\n",
      "\n",
      "  nodes_gpd[\"spawn_hoev\"][nodes_gpd[\"nodeID\"]==k],nodes_gpd[\"is_auto_br\"][nodes_gpd[\"nodeID\"]==k] = v, 1\n",
      "C:\\Users\\Alexander\\AppData\\Local\\Temp\\ipykernel_7096\\173192829.py:33: SettingWithCopyWarning: \n",
      "A value is trying to be set on a copy of a slice from a DataFrame\n",
      "\n",
      "See the caveats in the documentation: https://pandas.pydata.org/pandas-docs/stable/user_guide/indexing.html#returning-a-view-versus-a-copy\n",
      "  nodes_gpd[\"spawn_hoev\"][nodes_gpd[\"nodeID\"]==k],nodes_gpd[\"is_auto_br\"][nodes_gpd[\"nodeID\"]==k] = v, 1\n",
      "C:\\Users\\Alexander\\AppData\\Local\\Temp\\ipykernel_7096\\173192829.py:33: FutureWarning: ChainedAssignmentError: behaviour will change in pandas 3.0!\n",
      "You are setting values through chained assignment. Currently this works in certain cases, but when using Copy-on-Write (which will become the default behaviour in pandas 3.0) this will never work to update the original DataFrame or Series, because the intermediate object on which we are setting values will behave as a copy.\n",
      "A typical example is when you are setting values in a column of a DataFrame, like:\n",
      "\n",
      "df[\"col\"][row_indexer] = value\n",
      "\n",
      "Use `df.loc[row_indexer, \"col\"] = values` instead, to perform the assignment in a single step and ensure this keeps updating the original `df`.\n",
      "\n",
      "See the caveats in the documentation: https://pandas.pydata.org/pandas-docs/stable/user_guide/indexing.html#returning-a-view-versus-a-copy\n",
      "\n",
      "  nodes_gpd[\"spawn_hoev\"][nodes_gpd[\"nodeID\"]==k],nodes_gpd[\"is_auto_br\"][nodes_gpd[\"nodeID\"]==k] = v, 1\n",
      "C:\\Users\\Alexander\\AppData\\Local\\Temp\\ipykernel_7096\\173192829.py:33: SettingWithCopyWarning: \n",
      "A value is trying to be set on a copy of a slice from a DataFrame\n",
      "\n",
      "See the caveats in the documentation: https://pandas.pydata.org/pandas-docs/stable/user_guide/indexing.html#returning-a-view-versus-a-copy\n",
      "  nodes_gpd[\"spawn_hoev\"][nodes_gpd[\"nodeID\"]==k],nodes_gpd[\"is_auto_br\"][nodes_gpd[\"nodeID\"]==k] = v, 1\n",
      "C:\\Users\\Alexander\\AppData\\Local\\Temp\\ipykernel_7096\\173192829.py:33: FutureWarning: ChainedAssignmentError: behaviour will change in pandas 3.0!\n",
      "You are setting values through chained assignment. Currently this works in certain cases, but when using Copy-on-Write (which will become the default behaviour in pandas 3.0) this will never work to update the original DataFrame or Series, because the intermediate object on which we are setting values will behave as a copy.\n",
      "A typical example is when you are setting values in a column of a DataFrame, like:\n",
      "\n",
      "df[\"col\"][row_indexer] = value\n",
      "\n",
      "Use `df.loc[row_indexer, \"col\"] = values` instead, to perform the assignment in a single step and ensure this keeps updating the original `df`.\n",
      "\n",
      "See the caveats in the documentation: https://pandas.pydata.org/pandas-docs/stable/user_guide/indexing.html#returning-a-view-versus-a-copy\n",
      "\n",
      "  nodes_gpd[\"spawn_hoev\"][nodes_gpd[\"nodeID\"]==k],nodes_gpd[\"is_auto_br\"][nodes_gpd[\"nodeID\"]==k] = v, 1\n",
      "C:\\Users\\Alexander\\AppData\\Local\\Temp\\ipykernel_7096\\173192829.py:33: SettingWithCopyWarning: \n",
      "A value is trying to be set on a copy of a slice from a DataFrame\n",
      "\n",
      "See the caveats in the documentation: https://pandas.pydata.org/pandas-docs/stable/user_guide/indexing.html#returning-a-view-versus-a-copy\n",
      "  nodes_gpd[\"spawn_hoev\"][nodes_gpd[\"nodeID\"]==k],nodes_gpd[\"is_auto_br\"][nodes_gpd[\"nodeID\"]==k] = v, 1\n",
      "C:\\Users\\Alexander\\AppData\\Local\\Temp\\ipykernel_7096\\173192829.py:33: FutureWarning: ChainedAssignmentError: behaviour will change in pandas 3.0!\n",
      "You are setting values through chained assignment. Currently this works in certain cases, but when using Copy-on-Write (which will become the default behaviour in pandas 3.0) this will never work to update the original DataFrame or Series, because the intermediate object on which we are setting values will behave as a copy.\n",
      "A typical example is when you are setting values in a column of a DataFrame, like:\n",
      "\n",
      "df[\"col\"][row_indexer] = value\n",
      "\n",
      "Use `df.loc[row_indexer, \"col\"] = values` instead, to perform the assignment in a single step and ensure this keeps updating the original `df`.\n",
      "\n",
      "See the caveats in the documentation: https://pandas.pydata.org/pandas-docs/stable/user_guide/indexing.html#returning-a-view-versus-a-copy\n",
      "\n",
      "  nodes_gpd[\"spawn_hoev\"][nodes_gpd[\"nodeID\"]==k],nodes_gpd[\"is_auto_br\"][nodes_gpd[\"nodeID\"]==k] = v, 1\n",
      "C:\\Users\\Alexander\\AppData\\Local\\Temp\\ipykernel_7096\\173192829.py:33: SettingWithCopyWarning: \n",
      "A value is trying to be set on a copy of a slice from a DataFrame\n",
      "\n",
      "See the caveats in the documentation: https://pandas.pydata.org/pandas-docs/stable/user_guide/indexing.html#returning-a-view-versus-a-copy\n",
      "  nodes_gpd[\"spawn_hoev\"][nodes_gpd[\"nodeID\"]==k],nodes_gpd[\"is_auto_br\"][nodes_gpd[\"nodeID\"]==k] = v, 1\n",
      "C:\\Users\\Alexander\\AppData\\Local\\Temp\\ipykernel_7096\\173192829.py:33: FutureWarning: ChainedAssignmentError: behaviour will change in pandas 3.0!\n",
      "You are setting values through chained assignment. Currently this works in certain cases, but when using Copy-on-Write (which will become the default behaviour in pandas 3.0) this will never work to update the original DataFrame or Series, because the intermediate object on which we are setting values will behave as a copy.\n",
      "A typical example is when you are setting values in a column of a DataFrame, like:\n",
      "\n",
      "df[\"col\"][row_indexer] = value\n",
      "\n",
      "Use `df.loc[row_indexer, \"col\"] = values` instead, to perform the assignment in a single step and ensure this keeps updating the original `df`.\n",
      "\n",
      "See the caveats in the documentation: https://pandas.pydata.org/pandas-docs/stable/user_guide/indexing.html#returning-a-view-versus-a-copy\n",
      "\n",
      "  nodes_gpd[\"spawn_hoev\"][nodes_gpd[\"nodeID\"]==k],nodes_gpd[\"is_auto_br\"][nodes_gpd[\"nodeID\"]==k] = v, 1\n",
      "C:\\Users\\Alexander\\AppData\\Local\\Temp\\ipykernel_7096\\173192829.py:33: SettingWithCopyWarning: \n",
      "A value is trying to be set on a copy of a slice from a DataFrame\n",
      "\n",
      "See the caveats in the documentation: https://pandas.pydata.org/pandas-docs/stable/user_guide/indexing.html#returning-a-view-versus-a-copy\n",
      "  nodes_gpd[\"spawn_hoev\"][nodes_gpd[\"nodeID\"]==k],nodes_gpd[\"is_auto_br\"][nodes_gpd[\"nodeID\"]==k] = v, 1\n",
      "C:\\Users\\Alexander\\AppData\\Local\\Temp\\ipykernel_7096\\173192829.py:38: FutureWarning: ChainedAssignmentError: behaviour will change in pandas 3.0!\n",
      "You are setting values through chained assignment. Currently this works in certain cases, but when using Copy-on-Write (which will become the default behaviour in pandas 3.0) this will never work to update the original DataFrame or Series, because the intermediate object on which we are setting values will behave as a copy.\n",
      "A typical example is when you are setting values in a column of a DataFrame, like:\n",
      "\n",
      "df[\"col\"][row_indexer] = value\n",
      "\n",
      "Use `df.loc[row_indexer, \"col\"] = values` instead, to perform the assignment in a single step and ensure this keeps updating the original `df`.\n",
      "\n",
      "See the caveats in the documentation: https://pandas.pydata.org/pandas-docs/stable/user_guide/indexing.html#returning-a-view-versus-a-copy\n",
      "\n",
      "  nodes_gpd[\"spawn_hoev\"][nodes_gpd[\"stad_naam\"]==name]=spawn_hoeveelheden[name]\n",
      "C:\\Users\\Alexander\\AppData\\Local\\Temp\\ipykernel_7096\\173192829.py:38: SettingWithCopyWarning: \n",
      "A value is trying to be set on a copy of a slice from a DataFrame\n",
      "\n",
      "See the caveats in the documentation: https://pandas.pydata.org/pandas-docs/stable/user_guide/indexing.html#returning-a-view-versus-a-copy\n",
      "  nodes_gpd[\"spawn_hoev\"][nodes_gpd[\"stad_naam\"]==name]=spawn_hoeveelheden[name]\n",
      "C:\\Users\\Alexander\\AppData\\Local\\Temp\\ipykernel_7096\\173192829.py:38: FutureWarning: ChainedAssignmentError: behaviour will change in pandas 3.0!\n",
      "You are setting values through chained assignment. Currently this works in certain cases, but when using Copy-on-Write (which will become the default behaviour in pandas 3.0) this will never work to update the original DataFrame or Series, because the intermediate object on which we are setting values will behave as a copy.\n",
      "A typical example is when you are setting values in a column of a DataFrame, like:\n",
      "\n",
      "df[\"col\"][row_indexer] = value\n",
      "\n",
      "Use `df.loc[row_indexer, \"col\"] = values` instead, to perform the assignment in a single step and ensure this keeps updating the original `df`.\n",
      "\n",
      "See the caveats in the documentation: https://pandas.pydata.org/pandas-docs/stable/user_guide/indexing.html#returning-a-view-versus-a-copy\n",
      "\n",
      "  nodes_gpd[\"spawn_hoev\"][nodes_gpd[\"stad_naam\"]==name]=spawn_hoeveelheden[name]\n",
      "C:\\Users\\Alexander\\AppData\\Local\\Temp\\ipykernel_7096\\173192829.py:38: SettingWithCopyWarning: \n",
      "A value is trying to be set on a copy of a slice from a DataFrame\n",
      "\n",
      "See the caveats in the documentation: https://pandas.pydata.org/pandas-docs/stable/user_guide/indexing.html#returning-a-view-versus-a-copy\n",
      "  nodes_gpd[\"spawn_hoev\"][nodes_gpd[\"stad_naam\"]==name]=spawn_hoeveelheden[name]\n",
      "C:\\Users\\Alexander\\AppData\\Local\\Temp\\ipykernel_7096\\173192829.py:38: FutureWarning: ChainedAssignmentError: behaviour will change in pandas 3.0!\n",
      "You are setting values through chained assignment. Currently this works in certain cases, but when using Copy-on-Write (which will become the default behaviour in pandas 3.0) this will never work to update the original DataFrame or Series, because the intermediate object on which we are setting values will behave as a copy.\n",
      "A typical example is when you are setting values in a column of a DataFrame, like:\n",
      "\n",
      "df[\"col\"][row_indexer] = value\n",
      "\n",
      "Use `df.loc[row_indexer, \"col\"] = values` instead, to perform the assignment in a single step and ensure this keeps updating the original `df`.\n",
      "\n",
      "See the caveats in the documentation: https://pandas.pydata.org/pandas-docs/stable/user_guide/indexing.html#returning-a-view-versus-a-copy\n",
      "\n",
      "  nodes_gpd[\"spawn_hoev\"][nodes_gpd[\"stad_naam\"]==name]=spawn_hoeveelheden[name]\n",
      "C:\\Users\\Alexander\\AppData\\Local\\Temp\\ipykernel_7096\\173192829.py:38: SettingWithCopyWarning: \n",
      "A value is trying to be set on a copy of a slice from a DataFrame\n",
      "\n",
      "See the caveats in the documentation: https://pandas.pydata.org/pandas-docs/stable/user_guide/indexing.html#returning-a-view-versus-a-copy\n",
      "  nodes_gpd[\"spawn_hoev\"][nodes_gpd[\"stad_naam\"]==name]=spawn_hoeveelheden[name]\n",
      "C:\\Users\\Alexander\\AppData\\Local\\Temp\\ipykernel_7096\\173192829.py:38: FutureWarning: ChainedAssignmentError: behaviour will change in pandas 3.0!\n",
      "You are setting values through chained assignment. Currently this works in certain cases, but when using Copy-on-Write (which will become the default behaviour in pandas 3.0) this will never work to update the original DataFrame or Series, because the intermediate object on which we are setting values will behave as a copy.\n",
      "A typical example is when you are setting values in a column of a DataFrame, like:\n",
      "\n",
      "df[\"col\"][row_indexer] = value\n",
      "\n",
      "Use `df.loc[row_indexer, \"col\"] = values` instead, to perform the assignment in a single step and ensure this keeps updating the original `df`.\n",
      "\n",
      "See the caveats in the documentation: https://pandas.pydata.org/pandas-docs/stable/user_guide/indexing.html#returning-a-view-versus-a-copy\n",
      "\n",
      "  nodes_gpd[\"spawn_hoev\"][nodes_gpd[\"stad_naam\"]==name]=spawn_hoeveelheden[name]\n",
      "C:\\Users\\Alexander\\AppData\\Local\\Temp\\ipykernel_7096\\173192829.py:38: SettingWithCopyWarning: \n",
      "A value is trying to be set on a copy of a slice from a DataFrame\n",
      "\n",
      "See the caveats in the documentation: https://pandas.pydata.org/pandas-docs/stable/user_guide/indexing.html#returning-a-view-versus-a-copy\n",
      "  nodes_gpd[\"spawn_hoev\"][nodes_gpd[\"stad_naam\"]==name]=spawn_hoeveelheden[name]\n",
      "C:\\Users\\Alexander\\AppData\\Local\\Temp\\ipykernel_7096\\173192829.py:38: FutureWarning: ChainedAssignmentError: behaviour will change in pandas 3.0!\n",
      "You are setting values through chained assignment. Currently this works in certain cases, but when using Copy-on-Write (which will become the default behaviour in pandas 3.0) this will never work to update the original DataFrame or Series, because the intermediate object on which we are setting values will behave as a copy.\n",
      "A typical example is when you are setting values in a column of a DataFrame, like:\n",
      "\n",
      "df[\"col\"][row_indexer] = value\n",
      "\n",
      "Use `df.loc[row_indexer, \"col\"] = values` instead, to perform the assignment in a single step and ensure this keeps updating the original `df`.\n",
      "\n",
      "See the caveats in the documentation: https://pandas.pydata.org/pandas-docs/stable/user_guide/indexing.html#returning-a-view-versus-a-copy\n",
      "\n",
      "  nodes_gpd[\"spawn_hoev\"][nodes_gpd[\"stad_naam\"]==name]=spawn_hoeveelheden[name]\n",
      "C:\\Users\\Alexander\\AppData\\Local\\Temp\\ipykernel_7096\\173192829.py:38: SettingWithCopyWarning: \n",
      "A value is trying to be set on a copy of a slice from a DataFrame\n",
      "\n",
      "See the caveats in the documentation: https://pandas.pydata.org/pandas-docs/stable/user_guide/indexing.html#returning-a-view-versus-a-copy\n",
      "  nodes_gpd[\"spawn_hoev\"][nodes_gpd[\"stad_naam\"]==name]=spawn_hoeveelheden[name]\n",
      "C:\\Users\\Alexander\\AppData\\Local\\Temp\\ipykernel_7096\\173192829.py:38: FutureWarning: ChainedAssignmentError: behaviour will change in pandas 3.0!\n",
      "You are setting values through chained assignment. Currently this works in certain cases, but when using Copy-on-Write (which will become the default behaviour in pandas 3.0) this will never work to update the original DataFrame or Series, because the intermediate object on which we are setting values will behave as a copy.\n",
      "A typical example is when you are setting values in a column of a DataFrame, like:\n",
      "\n",
      "df[\"col\"][row_indexer] = value\n",
      "\n",
      "Use `df.loc[row_indexer, \"col\"] = values` instead, to perform the assignment in a single step and ensure this keeps updating the original `df`.\n",
      "\n",
      "See the caveats in the documentation: https://pandas.pydata.org/pandas-docs/stable/user_guide/indexing.html#returning-a-view-versus-a-copy\n",
      "\n",
      "  nodes_gpd[\"spawn_hoev\"][nodes_gpd[\"stad_naam\"]==name]=spawn_hoeveelheden[name]\n",
      "C:\\Users\\Alexander\\AppData\\Local\\Temp\\ipykernel_7096\\173192829.py:38: SettingWithCopyWarning: \n",
      "A value is trying to be set on a copy of a slice from a DataFrame\n",
      "\n",
      "See the caveats in the documentation: https://pandas.pydata.org/pandas-docs/stable/user_guide/indexing.html#returning-a-view-versus-a-copy\n",
      "  nodes_gpd[\"spawn_hoev\"][nodes_gpd[\"stad_naam\"]==name]=spawn_hoeveelheden[name]\n",
      "C:\\Users\\Alexander\\AppData\\Local\\Temp\\ipykernel_7096\\173192829.py:38: FutureWarning: ChainedAssignmentError: behaviour will change in pandas 3.0!\n",
      "You are setting values through chained assignment. Currently this works in certain cases, but when using Copy-on-Write (which will become the default behaviour in pandas 3.0) this will never work to update the original DataFrame or Series, because the intermediate object on which we are setting values will behave as a copy.\n",
      "A typical example is when you are setting values in a column of a DataFrame, like:\n",
      "\n",
      "df[\"col\"][row_indexer] = value\n",
      "\n",
      "Use `df.loc[row_indexer, \"col\"] = values` instead, to perform the assignment in a single step and ensure this keeps updating the original `df`.\n",
      "\n",
      "See the caveats in the documentation: https://pandas.pydata.org/pandas-docs/stable/user_guide/indexing.html#returning-a-view-versus-a-copy\n",
      "\n",
      "  nodes_gpd[\"spawn_hoev\"][nodes_gpd[\"stad_naam\"]==name]=spawn_hoeveelheden[name]\n",
      "C:\\Users\\Alexander\\AppData\\Local\\Temp\\ipykernel_7096\\173192829.py:38: SettingWithCopyWarning: \n",
      "A value is trying to be set on a copy of a slice from a DataFrame\n",
      "\n",
      "See the caveats in the documentation: https://pandas.pydata.org/pandas-docs/stable/user_guide/indexing.html#returning-a-view-versus-a-copy\n",
      "  nodes_gpd[\"spawn_hoev\"][nodes_gpd[\"stad_naam\"]==name]=spawn_hoeveelheden[name]\n",
      "C:\\Users\\Alexander\\AppData\\Local\\Temp\\ipykernel_7096\\173192829.py:38: FutureWarning: ChainedAssignmentError: behaviour will change in pandas 3.0!\n",
      "You are setting values through chained assignment. Currently this works in certain cases, but when using Copy-on-Write (which will become the default behaviour in pandas 3.0) this will never work to update the original DataFrame or Series, because the intermediate object on which we are setting values will behave as a copy.\n",
      "A typical example is when you are setting values in a column of a DataFrame, like:\n",
      "\n",
      "df[\"col\"][row_indexer] = value\n",
      "\n",
      "Use `df.loc[row_indexer, \"col\"] = values` instead, to perform the assignment in a single step and ensure this keeps updating the original `df`.\n",
      "\n",
      "See the caveats in the documentation: https://pandas.pydata.org/pandas-docs/stable/user_guide/indexing.html#returning-a-view-versus-a-copy\n",
      "\n",
      "  nodes_gpd[\"spawn_hoev\"][nodes_gpd[\"stad_naam\"]==name]=spawn_hoeveelheden[name]\n",
      "C:\\Users\\Alexander\\AppData\\Local\\Temp\\ipykernel_7096\\173192829.py:38: SettingWithCopyWarning: \n",
      "A value is trying to be set on a copy of a slice from a DataFrame\n",
      "\n",
      "See the caveats in the documentation: https://pandas.pydata.org/pandas-docs/stable/user_guide/indexing.html#returning-a-view-versus-a-copy\n",
      "  nodes_gpd[\"spawn_hoev\"][nodes_gpd[\"stad_naam\"]==name]=spawn_hoeveelheden[name]\n",
      "C:\\Users\\Alexander\\AppData\\Local\\Temp\\ipykernel_7096\\173192829.py:38: FutureWarning: ChainedAssignmentError: behaviour will change in pandas 3.0!\n",
      "You are setting values through chained assignment. Currently this works in certain cases, but when using Copy-on-Write (which will become the default behaviour in pandas 3.0) this will never work to update the original DataFrame or Series, because the intermediate object on which we are setting values will behave as a copy.\n",
      "A typical example is when you are setting values in a column of a DataFrame, like:\n",
      "\n",
      "df[\"col\"][row_indexer] = value\n",
      "\n",
      "Use `df.loc[row_indexer, \"col\"] = values` instead, to perform the assignment in a single step and ensure this keeps updating the original `df`.\n",
      "\n",
      "See the caveats in the documentation: https://pandas.pydata.org/pandas-docs/stable/user_guide/indexing.html#returning-a-view-versus-a-copy\n",
      "\n",
      "  nodes_gpd[\"spawn_hoev\"][nodes_gpd[\"stad_naam\"]==name]=spawn_hoeveelheden[name]\n",
      "C:\\Users\\Alexander\\AppData\\Local\\Temp\\ipykernel_7096\\173192829.py:38: SettingWithCopyWarning: \n",
      "A value is trying to be set on a copy of a slice from a DataFrame\n",
      "\n",
      "See the caveats in the documentation: https://pandas.pydata.org/pandas-docs/stable/user_guide/indexing.html#returning-a-view-versus-a-copy\n",
      "  nodes_gpd[\"spawn_hoev\"][nodes_gpd[\"stad_naam\"]==name]=spawn_hoeveelheden[name]\n",
      "C:\\Users\\Alexander\\AppData\\Local\\Temp\\ipykernel_7096\\173192829.py:38: FutureWarning: ChainedAssignmentError: behaviour will change in pandas 3.0!\n",
      "You are setting values through chained assignment. Currently this works in certain cases, but when using Copy-on-Write (which will become the default behaviour in pandas 3.0) this will never work to update the original DataFrame or Series, because the intermediate object on which we are setting values will behave as a copy.\n",
      "A typical example is when you are setting values in a column of a DataFrame, like:\n",
      "\n",
      "df[\"col\"][row_indexer] = value\n",
      "\n",
      "Use `df.loc[row_indexer, \"col\"] = values` instead, to perform the assignment in a single step and ensure this keeps updating the original `df`.\n",
      "\n",
      "See the caveats in the documentation: https://pandas.pydata.org/pandas-docs/stable/user_guide/indexing.html#returning-a-view-versus-a-copy\n",
      "\n",
      "  nodes_gpd[\"spawn_hoev\"][nodes_gpd[\"stad_naam\"]==name]=spawn_hoeveelheden[name]\n",
      "C:\\Users\\Alexander\\AppData\\Local\\Temp\\ipykernel_7096\\173192829.py:38: SettingWithCopyWarning: \n",
      "A value is trying to be set on a copy of a slice from a DataFrame\n",
      "\n",
      "See the caveats in the documentation: https://pandas.pydata.org/pandas-docs/stable/user_guide/indexing.html#returning-a-view-versus-a-copy\n",
      "  nodes_gpd[\"spawn_hoev\"][nodes_gpd[\"stad_naam\"]==name]=spawn_hoeveelheden[name]\n",
      "C:\\Users\\Alexander\\AppData\\Local\\Temp\\ipykernel_7096\\173192829.py:38: FutureWarning: ChainedAssignmentError: behaviour will change in pandas 3.0!\n",
      "You are setting values through chained assignment. Currently this works in certain cases, but when using Copy-on-Write (which will become the default behaviour in pandas 3.0) this will never work to update the original DataFrame or Series, because the intermediate object on which we are setting values will behave as a copy.\n",
      "A typical example is when you are setting values in a column of a DataFrame, like:\n",
      "\n",
      "df[\"col\"][row_indexer] = value\n",
      "\n",
      "Use `df.loc[row_indexer, \"col\"] = values` instead, to perform the assignment in a single step and ensure this keeps updating the original `df`.\n",
      "\n",
      "See the caveats in the documentation: https://pandas.pydata.org/pandas-docs/stable/user_guide/indexing.html#returning-a-view-versus-a-copy\n",
      "\n",
      "  nodes_gpd[\"spawn_hoev\"][nodes_gpd[\"stad_naam\"]==name]=spawn_hoeveelheden[name]\n",
      "C:\\Users\\Alexander\\AppData\\Local\\Temp\\ipykernel_7096\\173192829.py:38: SettingWithCopyWarning: \n",
      "A value is trying to be set on a copy of a slice from a DataFrame\n",
      "\n",
      "See the caveats in the documentation: https://pandas.pydata.org/pandas-docs/stable/user_guide/indexing.html#returning-a-view-versus-a-copy\n",
      "  nodes_gpd[\"spawn_hoev\"][nodes_gpd[\"stad_naam\"]==name]=spawn_hoeveelheden[name]\n"
     ]
    }
   ],
   "source": [
    "nodes_gpd = gpd.read_file('./wegengraafsimple/points.shp')\n",
    "lines_gpd = gpd.read_file('./wegengraafsimple/lines.shp')\n",
    "\n",
    "lines_gpd = lines_gpd.to_crs(epsg='28992')\n",
    "\n",
    "def transform_length(row):\n",
    "    row['length'] = row['geometry'].length\n",
    "    return row\n",
    "\n",
    "lines_gpd = lines_gpd.apply(transform_length, axis=1).to_crs(epsg='3857')\n",
    "\n",
    "# r = lines_gpd[(lines_gpd['node_start'] == 149) & (lines_gpd['node_end'] == 91)]\n",
    "# r = r.to_crs(crs=\"28992\")\n",
    "# r.length\n",
    "\n",
    "\n",
    "# change_to_2=[(201,202),(202,35),(35,225),(225,105),\"N356\",\"031\",(123,256),(256,219),(219,160)]\n",
    "# def update_lanes_to2(row):\n",
    "#     if (row[\"node_end\"],row[\"node_start\"]) in change_to_2 or (row[\"node_start\"],row[\"node_end\"]) in change_to_2 or row[\"wegnr\"] in change_to_2:\n",
    "#         row[\"nbanen\"]=2\n",
    "#     return row\n",
    "# lines_gpd=lines_gpd.apply(update_lanes_to2,axis=1)\n",
    "nodes_gpd[\"is_auto_br\"][np.isnan(nodes_gpd[\"is_auto_br\"])]=0\n",
    "nodes_gpd[\"spawn_hoev\"][np.isnan(nodes_gpd[\"spawn_hoev\"])]=0\n",
    "missing_length=np.nonzero(np.isnan(lines_gpd[\"length\"]))[0]\n",
    "for i in missing_length:\n",
    "    lines_28992 = lines_gpd.to_crs(epsg=28992) # on average 1m accuracy, testing roughly gives the same result (1.92 km approx 2.00 km)\n",
    "    lines_gpd.iloc[i,1]=lines_28992.length[i]\n",
    "lines_gpd[\"capacity\"]=lines_gpd['length']*lines_gpd['nbanen']*1/(4.5+lines_gpd['maxshd']/1.8)\n",
    "\n",
    "for k, v in spawn_hoeveelheden.items():\n",
    "    if type(k) == int:\n",
    "        nodes_gpd[\"spawn_hoev\"][nodes_gpd[\"nodeID\"]==k],nodes_gpd[\"is_auto_br\"][nodes_gpd[\"nodeID\"]==k] = v, 1\n",
    "\n",
    "# nodes_gpd[\"spawn_hoev\"][nodes_gpd[\"nodeID\"]==160],nodes_gpd[\"is_auto_br\"][nodes_gpd[\"nodeID\"]==160]=      spawn_hoeveelheden[160],1\n",
    "# nodes_gpd[\"spawn_hoev\"][nodes_gpd[\"nodeID\"]==199],nodes_gpd[\"is_auto_br\"][nodes_gpd[\"nodeID\"]==199]=      spawn_hoeveelheden[199],1 #afsluitdijk\n",
    "for name in stadnamen[1:]: #leeuwenwarden is handled seperately\n",
    "    nodes_gpd[\"spawn_hoev\"][nodes_gpd[\"stad_naam\"]==name]=spawn_hoeveelheden[name]\n",
    "nodes_gpd.loc[nodes_gpd[\"is_auto_br\"]==2,\"spawn_hoev\"]=spawn_hoeveelheden[\"Leeuwarden\"]/sum(nodes_gpd[\"is_auto_br\"]==2) #spread Leeuwarden's spawns over the appropriate nodes"
   ]
  },
  {
   "cell_type": "code",
   "execution_count": 6,
   "id": "664078c0",
   "metadata": {
    "execution": {
     "iopub.execute_input": "2024-10-31T15:29:46.255835Z",
     "iopub.status.busy": "2024-10-31T15:29:46.254455Z",
     "iopub.status.idle": "2024-10-31T15:29:46.316483Z",
     "shell.execute_reply": "2024-10-31T15:29:46.315484Z"
    },
    "papermill": {
     "duration": 0.09397,
     "end_time": "2024-10-31T15:29:46.326534",
     "exception": false,
     "start_time": "2024-10-31T15:29:46.232564",
     "status": "completed"
    },
    "tags": []
   },
   "outputs": [],
   "source": [
    "def create_graph(nodes_gpd, lines_gpd):\n",
    "    gf = nx.Graph()\n",
    "    for _, k in nodes_gpd.iterrows():\n",
    "        gf.add_node(int(k['nodeID']),\n",
    "                    x=k['geometry'].x,\n",
    "                    y=k['geometry'].y,\n",
    "                    stad_naam=k['stad_naam'],\n",
    "                    is_auto_br=k['is_auto_br'],\n",
    "                    spawn_hoev=k['spawn_hoev'])\n",
    "    for _, row in lines_gpd.iterrows():\n",
    "        gf.add_edge(int(row['node_start']), int(row['node_end']),\n",
    "                    wegnr=row['wegnr'],\n",
    "                    length=row['length'],\n",
    "                    maxshd=row['maxshd'],\n",
    "                    nbanen=row['nbanen'])\n",
    "    return gf\n",
    "\n",
    "gfd = nx.DiGraph(create_graph(nodes_gpd, lines_gpd))"
   ]
  },
  {
   "cell_type": "code",
   "execution_count": 7,
   "id": "d7966590",
   "metadata": {
    "execution": {
     "iopub.execute_input": "2024-10-31T15:29:46.401694Z",
     "iopub.status.busy": "2024-10-31T15:29:46.401694Z",
     "iopub.status.idle": "2024-10-31T15:29:46.405910Z",
     "shell.execute_reply": "2024-10-31T15:29:46.405910Z"
    },
    "papermill": {
     "duration": 0.130107,
     "end_time": "2024-10-31T15:29:46.489764",
     "exception": false,
     "start_time": "2024-10-31T15:29:46.359657",
     "status": "completed"
    },
    "tags": []
   },
   "outputs": [],
   "source": [
    "def weight_edge_min(f, t, attr):\n",
    "    return attr['length']/attr['maxshd']/1000*60\n",
    "\n",
    "def weight_edge_dist(f, t, attr):\n",
    "    return attr['length']\n",
    "\n",
    "def weight_capacity(f, t, attr):\n",
    "    cars = np.sum(attr['object'].cars[:, 0])\n",
    "    capacity = attr['object'].C()\n",
    "    return attr['length']/attr['maxshd']/1000*60 * (1 + cars/capacity)"
   ]
  },
  {
   "cell_type": "code",
   "execution_count": 8,
   "id": "396491c0",
   "metadata": {
    "execution": {
     "iopub.execute_input": "2024-10-31T15:29:46.616255Z",
     "iopub.status.busy": "2024-10-31T15:29:46.615250Z",
     "iopub.status.idle": "2024-10-31T15:29:46.622584Z",
     "shell.execute_reply": "2024-10-31T15:29:46.621594Z"
    },
    "papermill": {
     "duration": 0.173525,
     "end_time": "2024-10-31T15:29:46.695538",
     "exception": false,
     "start_time": "2024-10-31T15:29:46.522013",
     "status": "completed"
    },
    "tags": []
   },
   "outputs": [],
   "source": [
    "def draw_directed(gfd):\n",
    "    gfd_dir = nx.DiGraph()\n",
    "    for n in gfd.nodes():\n",
    "        gfd_dir.add_node(n, x=gfd.nodes[n]['x'], y=gfd.nodes[n]['y'])\n",
    "\n",
    "    for _, row in lines_gpd.iterrows():\n",
    "        gfd_dir.add_edge(int(row['node_start']), int(row['node_end']),\n",
    "                    wegnr=row['wegnr'],\n",
    "                    length=row['length'],\n",
    "                    maxshd=row['maxshd'],\n",
    "                    nbanen=row['nbanen'])\n",
    "\n",
    "    plt.figure(figsize=(20, 20))\n",
    "    nx.draw(gfd_dir, pos={n: [gfd.nodes[n]['x'], gfd.nodes[n]['y']] for n in list(gfd.nodes)}, with_labels=True, node_shape='s', node_size=1)\n",
    "\n",
    "    # subgr = nx.DiGraph(gfd.subgraph(path))\n",
    "    # nx.draw_networkx_edges(subgr, pos={n: [gfd.nodes[n]['x'], gfd.nodes[n]['y']] for n in list(gfd.nodes)},\n",
    "    #                     edge_color=colors[i], width=15, style=style[i])\n",
    "    # i += 1\n",
    "\n",
    "    plt.show()\n",
    "\n",
    "# draw_directed(gfd)"
   ]
  },
  {
   "cell_type": "code",
   "execution_count": 9,
   "id": "c55c1431",
   "metadata": {
    "execution": {
     "iopub.execute_input": "2024-10-31T15:29:46.816754Z",
     "iopub.status.busy": "2024-10-31T15:29:46.816754Z",
     "iopub.status.idle": "2024-10-31T15:29:46.819865Z",
     "shell.execute_reply": "2024-10-31T15:29:46.819865Z"
    },
    "papermill": {
     "duration": 0.133924,
     "end_time": "2024-10-31T15:29:46.879295",
     "exception": false,
     "start_time": "2024-10-31T15:29:46.745371",
     "status": "completed"
    },
    "tags": [
     "parameters"
    ]
   },
   "outputs": [],
   "source": [
    "# parameters cell\n",
    "minutes_simulation = 60\n",
    "minutes_initialization = 0\n",
    "save_to = None\n",
    "traveltime_saveto = None\n",
    "road_modifications = {}"
   ]
  },
  {
   "cell_type": "code",
   "execution_count": 10,
   "id": "e590e2cc",
   "metadata": {
    "execution": {
     "iopub.execute_input": "2024-10-31T15:29:46.981434Z",
     "iopub.status.busy": "2024-10-31T15:29:46.981434Z",
     "iopub.status.idle": "2024-10-31T15:29:46.985173Z",
     "shell.execute_reply": "2024-10-31T15:29:46.984661Z"
    },
    "papermill": {
     "duration": 0.085089,
     "end_time": "2024-10-31T15:29:47.018516",
     "exception": false,
     "start_time": "2024-10-31T15:29:46.933427",
     "status": "completed"
    },
    "tags": [
     "injected-parameters"
    ]
   },
   "outputs": [],
   "source": [
    "# Parameters\n",
    "minutes_initialization = 50\n",
    "minutes_simulation = 100\n",
    "save_to = \"test2.csv\"\n",
    "traveltime_saveto = \"traveltime2.bin\"\n",
    "road_modifications = {\"175000197.0\": {\"nbanen\": 3}, \"169000197.0\": {\"nbanen\": 3}, \"168000169.0\": {\"nbanen\": 3}, \"189000168.0\": {\"nbanen\": 3}, \"149000189.0\": {\"nbanen\": 3}}\n"
   ]
  },
  {
   "cell_type": "code",
   "execution_count": 11,
   "id": "7749c83a",
   "metadata": {
    "execution": {
     "iopub.execute_input": "2024-10-31T15:29:47.123643Z",
     "iopub.status.busy": "2024-10-31T15:29:47.123643Z",
     "iopub.status.idle": "2024-10-31T15:29:47.191273Z",
     "shell.execute_reply": "2024-10-31T15:29:47.191273Z"
    },
    "papermill": {
     "duration": 0.168586,
     "end_time": "2024-10-31T15:29:47.237492",
     "exception": false,
     "start_time": "2024-10-31T15:29:47.068906",
     "status": "completed"
    },
    "tags": []
   },
   "outputs": [],
   "source": [
    "def change_nbanen(edge, new_nbanen, lines_gpd):\n",
    "    def _internal_transf(r):\n",
    "        if (r['node_start'] == e1 and r['node_end'] == e2) or (r['node_start'] == e2 and r['node_end'] == e1):\n",
    "            r['nbanen'] = new_nbanen\n",
    "            r['capacity'] = r['length'] * r['nbanen'] * 1/(4.5 + r['maxshd']/1.8)\n",
    "        return r\n",
    "    \n",
    "    e1, e2 = edge\n",
    "    gfd.edges[(e1, e2)]['nbanen'] = new_nbanen\n",
    "    gfd.edges[(e2, e1)]['nbanen'] = new_nbanen\n",
    "    lines_gpd['length']*lines_gpd['nbanen']*1/(4.5+lines_gpd['maxshd']/1.8)\n",
    "    return lines_gpd.apply(_internal_transf, axis=1)\n",
    "\n",
    "def change_maxshd(edge, new_maxshd, lines_gpd):\n",
    "    def _internal_transf(r):\n",
    "        if (r['node_start'] == e1 and r['node_end'] == e2) or (r['node_start'] == e2 and r['node_end'] == e1):\n",
    "            r['maxshd'] = new_maxshd\n",
    "            r['capacity'] = r['length'] * r['nbanen'] * 1/(4.5 + r['maxshd']/1.8)\n",
    "        return r\n",
    "    \n",
    "    e1, e2 = edge\n",
    "    gfd.edges[(e1, e2)]['maxshd'] = new_maxshd\n",
    "    gfd.edges[(e2, e1)]['maxshd'] = new_maxshd\n",
    "    return lines_gpd.apply(_internal_transf, axis=1)\n",
    "\n",
    "road_modifications = {(int(float(k) // 1e6), int(float(k) % 1e6)): v for k, v in road_modifications.items()}\n",
    "for k, v in road_modifications.items():\n",
    "    if 'nbanen' in v.keys():\n",
    "        lines_gpd = change_nbanen(k, v['nbanen'], lines_gpd)\n",
    "    if 'maxshd' in v.keys():\n",
    "        lines_gpd = change_maxshd(k, v['maxshd'], lines_gpd)"
   ]
  },
  {
   "cell_type": "code",
   "execution_count": 12,
   "id": "7e835788",
   "metadata": {
    "execution": {
     "iopub.execute_input": "2024-10-31T15:29:47.303093Z",
     "iopub.status.busy": "2024-10-31T15:29:47.303093Z",
     "iopub.status.idle": "2024-10-31T15:29:47.308611Z",
     "shell.execute_reply": "2024-10-31T15:29:47.307618Z"
    },
    "papermill": {
     "duration": 0.064689,
     "end_time": "2024-10-31T15:29:47.348876",
     "exception": false,
     "start_time": "2024-10-31T15:29:47.284187",
     "status": "completed"
    },
    "tags": []
   },
   "outputs": [],
   "source": [
    "# lines_gpd[(lines_gpd['node_start'] == 175) & (lines_gpd['node_end'] == 197)]"
   ]
  },
  {
   "cell_type": "markdown",
   "id": "68f920d1",
   "metadata": {
    "papermill": {
     "duration": 0.058349,
     "end_time": "2024-10-31T15:29:47.443399",
     "exception": false,
     "start_time": "2024-10-31T15:29:47.385050",
     "status": "completed"
    },
    "tags": []
   },
   "source": [
    "### Running the model"
   ]
  },
  {
   "cell_type": "code",
   "execution_count": 13,
   "id": "97c49814",
   "metadata": {
    "execution": {
     "iopub.execute_input": "2024-10-31T15:29:47.501667Z",
     "iopub.status.busy": "2024-10-31T15:29:47.501148Z",
     "iopub.status.idle": "2024-10-31T15:29:47.535987Z",
     "shell.execute_reply": "2024-10-31T15:29:47.535987Z"
    },
    "papermill": {
     "duration": 0.106262,
     "end_time": "2024-10-31T15:29:47.591632",
     "exception": false,
     "start_time": "2024-10-31T15:29:47.485370",
     "status": "completed"
    },
    "tags": []
   },
   "outputs": [],
   "source": [
    "sources=nodes_gpd[\"nodeID\"][np.nonzero(nodes_gpd[\"is_auto_br\"])[0]]\n",
    "weights=nodes_gpd[\"spawn_hoev\"][np.nonzero(nodes_gpd[\"is_auto_br\"])[0]]\n",
    "leeuwarden=list(nodes_gpd[nodes_gpd[\"is_auto_br\"]==2][\"nodeID\"])\n",
    "# sources=[1000,1001,1002]\n",
    "nx.set_edge_attributes(gfd,{e: edge(gfd.edges[e][\"length\"],gfd.edges[e][\"maxshd\"],gfd.edges[e][\"nbanen\"],id=e) for e in gfd.edges},\"object\") #put edge objects on the edges\n",
    "nx.set_node_attributes(gfd,{n: node(inputs=[gfd.edges[e][\"object\"] for e in gfd.in_edges(n)],output=[gfd.edges[e][\"object\"] for e in gfd.out_edges(n)],id=n, average=gfd.nodes[n][\"spawn_hoev\"],sd=1.5) for n in gfd.nodes},\"object\") \n",
    "#put node objects on nodes\n",
    "for i in sources:\n",
    "    if i in leeuwarden:\n",
    "        gfd.nodes[i][\"object\"].destinations=list(filter(lambda x: x not in leeuwarden, sources))\n",
    "        gfd.nodes[i][\"object\"].dest_weights=list(weights[list(i not in leeuwarden for i in sources)]/sum(weights[list(i not in leeuwarden for i in sources)]))#destination is any city except source\n",
    "    else:    \n",
    "        gfd.nodes[i][\"object\"].destinations=list(sources[sources!=i])\n",
    "        gfd.nodes[i][\"object\"].dest_weights=list(weights[sources!=i]/sum(weights[sources!=i])) #destination is any city except source\n",
    "    if len(gfd.nodes[i][\"object\"].destinations)!=len(gfd.nodes[i][\"object\"].dest_weights): \n",
    "        raise ValueError(f\"destinations and dest_weights not the same size for id:{i}\")"
   ]
  },
  {
   "cell_type": "code",
   "execution_count": 14,
   "id": "c3c7bf35",
   "metadata": {
    "execution": {
     "iopub.execute_input": "2024-10-31T15:29:47.706153Z",
     "iopub.status.busy": "2024-10-31T15:29:47.706153Z",
     "iopub.status.idle": "2024-10-31T15:47:24.342591Z",
     "shell.execute_reply": "2024-10-31T15:47:24.341597Z"
    },
    "papermill": {
     "duration": 1056.730469,
     "end_time": "2024-10-31T15:47:24.372207",
     "exception": false,
     "start_time": "2024-10-31T15:29:47.641738",
     "status": "completed"
    },
    "tags": []
   },
   "outputs": [
    {
     "name": "stdout",
     "output_type": "stream",
     "text": [
      "file op edge (1000, 706) cars:10.0,speed is now 50\n",
      "file op edge (700, 705) cars:30.0,speed is now 50\n"
     ]
    },
    {
     "name": "stdout",
     "output_type": "stream",
     "text": [
      "file op edge (700, 705) cars:29.0,speed is now 45.0\n"
     ]
    },
    {
     "name": "stdout",
     "output_type": "stream",
     "text": [
      "file op edge (1000, 706) cars:10.0,speed is now 45.0\n",
      "file op edge (601, 610) cars:14.0,speed is now 50\n",
      "file op edge (705, 600) cars:23.0,speed is now 50\n",
      "file op edge (706, 1000) cars:10.0,speed is now 50\n"
     ]
    },
    {
     "name": "stdout",
     "output_type": "stream",
     "text": [
      "file op edge (180, 207) cars:47.0,speed is now 80\n",
      "file op edge (1001, 146) cars:69.0,speed is now 50\n",
      "file op edge (610, 601) cars:14.0,speed is now 50\n",
      "file op edge (706, 702) cars:26.0,speed is now 50\n"
     ]
    },
    {
     "name": "stdout",
     "output_type": "stream",
     "text": [
      "file op edge (700, 608) cars:28.0,speed is now 50\n"
     ]
    },
    {
     "name": "stdout",
     "output_type": "stream",
     "text": [
      "file op edge (1001, 146) cars:76.0,speed is now 45.0\n",
      "file op edge (700, 608) cars:31.0,speed is now 45.0\n",
      "file op edge (702, 607) cars:15.0,speed is now 50\n"
     ]
    },
    {
     "name": "stdout",
     "output_type": "stream",
     "text": [
      "file op edge (1001, 246) cars:64.0,speed is now 50\n",
      "file op edge (705, 600) cars:25.0,speed is now 45.0\n"
     ]
    },
    {
     "name": "stdout",
     "output_type": "stream",
     "text": [
      "file op edge (1001, 246) cars:70.0,speed is now 45.0\n",
      "file op edge (1002, 240) cars:65.0,speed is now 50\n",
      "file op edge (610, 601) cars:14.0,speed is now 45.0\n",
      "file op edge (706, 1000) cars:11.0,speed is now 45.0\n"
     ]
    },
    {
     "name": "stdout",
     "output_type": "stream",
     "text": [
      "file op edge (601, 610) cars:15.0,speed is now 45.0\n",
      "file op edge (705, 601) cars:30.0,speed is now 50\n"
     ]
    },
    {
     "name": "stdout",
     "output_type": "stream",
     "text": [
      "file op edge (700, 608) cars:34.0,speed is now 40.0\n",
      "file op edge (702, 607) cars:16.0,speed is now 45.0\n",
      "file op edge (705, 601) cars:29.0,speed is now 45.0\n",
      "file op edge (706, 702) cars:28.0,speed is now 45.0\n"
     ]
    },
    {
     "name": "stdout",
     "output_type": "stream",
     "text": [
      "file op edge (1001, 246) cars:73.0,speed is now 40.0\n",
      "file op edge (601, 600) cars:24.0,speed is now 50\n",
      "file op edge (700, 608) cars:36.0,speed is now 35.0\n",
      "file op edge (702, 607) cars:18.0,speed is now 40.0\n"
     ]
    },
    {
     "name": "stdout",
     "output_type": "stream",
     "text": [
      "file op edge (702, 607) cars:20.0,speed is now 35.0\n",
      "file op edge (704, 602) cars:42.0,speed is now 50\n"
     ]
    },
    {
     "name": "stdout",
     "output_type": "stream",
     "text": [
      "file op edge (1001, 146) cars:85.0,speed is now 40.0\n"
     ]
    },
    {
     "name": "stdout",
     "output_type": "stream",
     "text": [
      "file op edge (606, 605) cars:16.0,speed is now 50\n"
     ]
    },
    {
     "name": "stdout",
     "output_type": "stream",
     "text": [
      "file op edge (1001, 146) cars:91.0,speed is now 35.0\n",
      "file op edge (700, 608) cars:40.0,speed is now 30.0\n",
      "file op edge (701, 605) cars:39.0,speed is now 50\n"
     ]
    },
    {
     "name": "stdout",
     "output_type": "stream",
     "text": [
      "file op edge (602, 201) cars:27.0,speed is now 70\n"
     ]
    },
    {
     "name": "stdout",
     "output_type": "stream",
     "text": [
      "file op edge (605, 6) cars:65.0,speed is now 65\n"
     ]
    },
    {
     "name": "stdout",
     "output_type": "stream",
     "text": [
      "file op edge (702, 606) cars:26.0,speed is now 50\n",
      "file op edge (705, 600) cars:27.0,speed is now 40.0\n"
     ]
    },
    {
     "name": "stdout",
     "output_type": "stream",
     "text": [
      "file op edge (1001, 246) cars:84.0,speed is now 35.0\n",
      "file op edge (606, 605) cars:18.0,speed is now 45.0\n"
     ]
    },
    {
     "name": "stdout",
     "output_type": "stream",
     "text": [
      "file op edge (705, 600) cars:29.0,speed is now 35.0\n",
      "file op edge (706, 1000) cars:11.0,speed is now 40.0\n"
     ]
    },
    {
     "name": "stdout",
     "output_type": "stream",
     "text": [
      "file op edge (215, 151) cars:24.0,speed is now 100\n",
      "file op edge (702, 607) cars:23.0,speed is now 30.0\n"
     ]
    },
    {
     "name": "stdout",
     "output_type": "stream",
     "text": [
      "file op edge (215, 151) cars:27.0,speed is now 90.0\n"
     ]
    },
    {
     "name": "stdout",
     "output_type": "stream",
     "text": [
      "file op edge (215, 151) cars:30.0,speed is now 80.0\n"
     ]
    },
    {
     "name": "stdout",
     "output_type": "stream",
     "text": [
      "file op edge (150, 151) cars:60.0,speed is now 100\n",
      "file op edge (1001, 246) cars:92.0,speed is now 30.0\n",
      "file op edge (605, 6) cars:66.0,speed is now 58.5\n"
     ]
    },
    {
     "name": "stdout",
     "output_type": "stream",
     "text": [
      "file op edge (150, 151) cars:66.0,speed is now 90.0\n",
      "file op edge (215, 151) cars:32.0,speed is now 70.0\n",
      "file op edge (1003, 149) cars:54.0,speed is now 50\n",
      "file op edge (606, 605) cars:20.0,speed is now 40.0\n",
      "file op edge (608, 173) cars:50.0,speed is now 70\n"
     ]
    },
    {
     "name": "stdout",
     "output_type": "stream",
     "text": [
      "file op edge (150, 151) cars:75.0,speed is now 80.0\n",
      "file op edge (151, 150) cars:61.0,speed is now 100\n",
      "file op edge (1003, 149) cars:61.0,speed is now 45.0\n",
      "file op edge (606, 605) cars:21.0,speed is now 35.0\n",
      "file op edge (608, 173) cars:53.0,speed is now 63.0\n"
     ]
    },
    {
     "name": "stdout",
     "output_type": "stream",
     "text": [
      "file op edge (1003, 149) cars:61.0,speed is now 40.0\n",
      "file op edge (605, 6) cars:74.0,speed is now 52.0\n"
     ]
    },
    {
     "name": "stdout",
     "output_type": "stream",
     "text": [
      "file op edge (150, 151) cars:85.0,speed is now 70.0\n",
      "file op edge (1001, 146) cars:112.0,speed is now 30.0\n"
     ]
    },
    {
     "name": "stdout",
     "output_type": "stream",
     "text": [
      "file op edge (244, 223) cars:107.0,speed is now 100\n"
     ]
    },
    {
     "name": "stdout",
     "output_type": "stream",
     "text": [
      "file op edge (150, 151) cars:98.0,speed is now 60.0\n"
     ]
    },
    {
     "name": "stdout",
     "output_type": "stream",
     "text": [
      "file op edge (244, 223) cars:122.0,speed is now 90.0\n",
      "file op edge (607, 175) cars:91.0,speed is now 50\n",
      "file op edge (702, 606) cars:26.0,speed is now 45.0\n"
     ]
    },
    {
     "name": "stdout",
     "output_type": "stream",
     "text": [
      "file op edge (151, 150) cars:64.0,speed is now 90.0\n",
      "file op edge (703, 108) cars:25.0,speed is now 100\n"
     ]
    },
    {
     "name": "stdout",
     "output_type": "stream",
     "text": [
      "file op edge (149, 150) cars:116.0,speed is now 100\n",
      "file op edge (703, 174) cars:29.0,speed is now 100\n"
     ]
    },
    {
     "name": "stdout",
     "output_type": "stream",
     "text": [
      "file op edge (703, 174) cars:32.0,speed is now 90.0\n"
     ]
    },
    {
     "name": "stdout",
     "output_type": "stream",
     "text": [
      "file op edge (149, 150) cars:127.0,speed is now 90.0\n",
      "file op edge (702, 606) cars:29.0,speed is now 40.0\n"
     ]
    },
    {
     "name": "stdout",
     "output_type": "stream",
     "text": [
      "file op edge (149, 150) cars:134.0,speed is now 80.0\n"
     ]
    },
    {
     "name": "stdout",
     "output_type": "stream",
     "text": [
      "file op edge (149, 150) cars:160.0,speed is now 70.0\n",
      "file op edge (215, 151) cars:40.0,speed is now 60.0\n"
     ]
    },
    {
     "name": "stdout",
     "output_type": "stream",
     "text": [
      "file op edge (149, 150) cars:176.0,speed is now 60.0\n"
     ]
    },
    {
     "name": "stdout",
     "output_type": "stream",
     "text": [
      "file op edge (1003, 149) cars:73.0,speed is now 35.0\n"
     ]
    },
    {
     "name": "stdout",
     "output_type": "stream",
     "text": [
      "file op edge (1003, 149) cars:84.0,speed is now 30.0\n"
     ]
    },
    {
     "name": "stdout",
     "output_type": "stream",
     "text": [
      "file op edge (703, 108) cars:27.0,speed is now 90.0\n"
     ]
    },
    {
     "name": "stdout",
     "output_type": "stream",
     "text": [
      "file op edge (91, 149) cars:261.0,speed is now 100\n",
      "file op edge (1003, 224) cars:54.0,speed is now 50\n"
     ]
    },
    {
     "name": "stdout",
     "output_type": "stream",
     "text": [
      "file op edge (706, 702) cars:28.0,speed is now 40.0\n"
     ]
    },
    {
     "name": "stdout",
     "output_type": "stream",
     "text": [
      "file op edge (174, 173) cars:21.0,speed is now 80\n",
      "file op edge (1003, 224) cars:61.0,speed is now 45.0\n"
     ]
    },
    {
     "name": "stdout",
     "output_type": "stream",
     "text": [
      "0, "
     ]
    },
    {
     "name": "stdout",
     "output_type": "stream",
     "text": [
      "1, "
     ]
    },
    {
     "name": "stdout",
     "output_type": "stream",
     "text": [
      "file op edge (700, 1000) cars:22.0,speed is now 30\n"
     ]
    },
    {
     "name": "stdout",
     "output_type": "stream",
     "text": [
      "2, "
     ]
    },
    {
     "name": "stdout",
     "output_type": "stream",
     "text": [
      "file op edge (91, 149) cars:291.0,speed is now 90.0\n",
      "file op edge (175, 607) cars:92.0,speed is now 50\n"
     ]
    },
    {
     "name": "stdout",
     "output_type": "stream",
     "text": [
      "3, "
     ]
    },
    {
     "name": "stdout",
     "output_type": "stream",
     "text": [
      "4, "
     ]
    },
    {
     "name": "stdout",
     "output_type": "stream",
     "text": [
      "file op edge (607, 606) cars:20.0,speed is now 50\n"
     ]
    },
    {
     "name": "stdout",
     "output_type": "stream",
     "text": [
      "5, "
     ]
    },
    {
     "name": "stdout",
     "output_type": "stream",
     "text": [
      "file op edge (606, 605) cars:23.0,speed is now 30.0\n"
     ]
    },
    {
     "name": "stdout",
     "output_type": "stream",
     "text": [
      "6, "
     ]
    },
    {
     "name": "stdout",
     "output_type": "stream",
     "text": [
      "file op edge (206, 146) cars:164.0,speed is now 100\n",
      "file op edge (244, 223) cars:130.0,speed is now 80.0\n"
     ]
    },
    {
     "name": "stdout",
     "output_type": "stream",
     "text": [
      "7, "
     ]
    },
    {
     "name": "stdout",
     "output_type": "stream",
     "text": [
      "file op edge (607, 606) cars:21.0,speed is now 45.0\n"
     ]
    },
    {
     "name": "stdout",
     "output_type": "stream",
     "text": [
      "8, "
     ]
    },
    {
     "name": "stdout",
     "output_type": "stream",
     "text": [
      "file op edge (706, 1000) cars:14.0,speed is now 35.0\n"
     ]
    },
    {
     "name": "stdout",
     "output_type": "stream",
     "text": [
      "9, "
     ]
    },
    {
     "name": "stdout",
     "output_type": "stream",
     "text": [
      "file op edge (91, 149) cars:319.0,speed is now 80.0\n"
     ]
    },
    {
     "name": "stdout",
     "output_type": "stream",
     "text": [
      "10, "
     ]
    },
    {
     "name": "stdout",
     "output_type": "stream",
     "text": [
      "file op edge (608, 173) cars:65.0,speed is now 56.0\n"
     ]
    },
    {
     "name": "stdout",
     "output_type": "stream",
     "text": [
      "11, "
     ]
    },
    {
     "name": "stdout",
     "output_type": "stream",
     "text": [
      "file op edge (173, 72) cars:116.0,speed is now 100\n",
      "file op edge (174, 173) cars:24.0,speed is now 72.0\n",
      "file op edge (206, 146) cars:184.0,speed is now 90.0\n"
     ]
    },
    {
     "name": "stdout",
     "output_type": "stream",
     "text": [
      "12, "
     ]
    },
    {
     "name": "stdout",
     "output_type": "stream",
     "text": [
      "file op edge (173, 72) cars:133.0,speed is now 90.0\n",
      "file op edge (702, 606) cars:34.0,speed is now 35.0\n"
     ]
    },
    {
     "name": "stdout",
     "output_type": "stream",
     "text": [
      "13, "
     ]
    },
    {
     "name": "stdout",
     "output_type": "stream",
     "text": [
      "file op edge (174, 173) cars:27.0,speed is now 64.0\n",
      "file op edge (206, 146) cars:198.0,speed is now 80.0\n",
      "file op edge (607, 606) cars:24.0,speed is now 40.0\n"
     ]
    },
    {
     "name": "stdout",
     "output_type": "stream",
     "text": [
      "14, "
     ]
    },
    {
     "name": "stdout",
     "output_type": "stream",
     "text": [
      "file op edge (174, 173) cars:31.0,speed is now 56.0\n"
     ]
    },
    {
     "name": "stdout",
     "output_type": "stream",
     "text": [
      "15, "
     ]
    },
    {
     "name": "stdout",
     "output_type": "stream",
     "text": [
      "file op edge (173, 72) cars:143.0,speed is now 80.0\n",
      "file op edge (174, 173) cars:32.0,speed is now 48.0\n",
      "file op edge (175, 607) cars:102.0,speed is now 45.0\n"
     ]
    },
    {
     "name": "stdout",
     "output_type": "stream",
     "text": [
      "16, "
     ]
    },
    {
     "name": "stdout",
     "output_type": "stream",
     "text": [
      "file op edge (175, 607) cars:115.0,speed is now 40.0\n",
      "file op edge (224, 1003) cars:54.0,speed is now 50\n"
     ]
    },
    {
     "name": "stdout",
     "output_type": "stream",
     "text": [
      "17, "
     ]
    },
    {
     "name": "stdout",
     "output_type": "stream",
     "text": [
      "18, "
     ]
    },
    {
     "name": "stdout",
     "output_type": "stream",
     "text": [
      "file op edge (1003, 503) cars:48.0,speed is now 50\n"
     ]
    },
    {
     "name": "stdout",
     "output_type": "stream",
     "text": [
      "19, "
     ]
    },
    {
     "name": "stdout",
     "output_type": "stream",
     "text": [
      "file op edge (151, 150) cars:79.0,speed is now 80.0\n"
     ]
    },
    {
     "name": "stdout",
     "output_type": "stream",
     "text": [
      "20, "
     ]
    },
    {
     "name": "stdout",
     "output_type": "stream",
     "text": [
      "file op edge (151, 150) cars:86.0,speed is now 70.0\n",
      "file op edge (241, 240) cars:46.0,speed is now 80\n"
     ]
    },
    {
     "name": "stdout",
     "output_type": "stream",
     "text": [
      "21, "
     ]
    },
    {
     "name": "stdout",
     "output_type": "stream",
     "text": [
      "file op edge (206, 146) cars:237.0,speed is now 70.0\n"
     ]
    },
    {
     "name": "stdout",
     "output_type": "stream",
     "text": [
      "22, "
     ]
    },
    {
     "name": "stdout",
     "output_type": "stream",
     "text": [
      "file op edge (149, 224) cars:129.0,speed is now 80\n",
      "file op edge (700, 1000) cars:24.0,speed is now 27.0\n",
      "file op edge (610, 601) cars:15.0,speed is now 40.0\n"
     ]
    },
    {
     "name": "stdout",
     "output_type": "stream",
     "text": [
      "23, "
     ]
    },
    {
     "name": "stdout",
     "output_type": "stream",
     "text": [
      "file op edge (151, 150) cars:103.0,speed is now 60.0\n"
     ]
    },
    {
     "name": "stdout",
     "output_type": "stream",
     "text": [
      "24, "
     ]
    },
    {
     "name": "stdout",
     "output_type": "stream",
     "text": [
      "file op edge (703, 108) cars:32.0,speed is now 80.0\n"
     ]
    },
    {
     "name": "stdout",
     "output_type": "stream",
     "text": [
      "25, "
     ]
    },
    {
     "name": "stdout",
     "output_type": "stream",
     "text": [
      "26, "
     ]
    },
    {
     "name": "stdout",
     "output_type": "stream",
     "text": [
      "file op edge (149, 224) cars:142.0,speed is now 72.0\n"
     ]
    },
    {
     "name": "stdout",
     "output_type": "stream",
     "text": [
      "27, "
     ]
    },
    {
     "name": "stdout",
     "output_type": "stream",
     "text": [
      "file op edge (703, 108) cars:36.0,speed is now 70.0\n"
     ]
    },
    {
     "name": "stdout",
     "output_type": "stream",
     "text": [
      "28, "
     ]
    },
    {
     "name": "stdout",
     "output_type": "stream",
     "text": [
      "29, "
     ]
    },
    {
     "name": "stdout",
     "output_type": "stream",
     "text": [
      "file op edge (173, 72) cars:156.0,speed is now 70.0\n"
     ]
    },
    {
     "name": "stdout",
     "output_type": "stream",
     "text": [
      "30, "
     ]
    },
    {
     "name": "stdout",
     "output_type": "stream",
     "text": [
      "31, "
     ]
    },
    {
     "name": "stdout",
     "output_type": "stream",
     "text": [
      "32, "
     ]
    },
    {
     "name": "stdout",
     "output_type": "stream",
     "text": [
      "file op edge (123, 95) cars:38.0,speed is now 100\n"
     ]
    },
    {
     "name": "stdout",
     "output_type": "stream",
     "text": [
      "33, "
     ]
    },
    {
     "name": "stdout",
     "output_type": "stream",
     "text": [
      "file op edge (150, 1003) cars:103.0,speed is now 50\n"
     ]
    },
    {
     "name": "stdout",
     "output_type": "stream",
     "text": [
      "34, "
     ]
    },
    {
     "name": "stdout",
     "output_type": "stream",
     "text": [
      "file op edge (123, 95) cars:42.0,speed is now 90.0\n",
      "file op edge (206, 146) cars:261.0,speed is now 60.0\n"
     ]
    },
    {
     "name": "stdout",
     "output_type": "stream",
     "text": [
      "35, "
     ]
    },
    {
     "name": "stdout",
     "output_type": "stream",
     "text": [
      "36, "
     ]
    },
    {
     "name": "stdout",
     "output_type": "stream",
     "text": [
      "file op edge (123, 95) cars:48.0,speed is now 80.0\n",
      "file op edge (1003, 150) cars:102.0,speed is now 50\n"
     ]
    },
    {
     "name": "stdout",
     "output_type": "stream",
     "text": [
      "37, "
     ]
    },
    {
     "name": "stdout",
     "output_type": "stream",
     "text": [
      "file op edge (123, 95) cars:50.0,speed is now 70.0\n"
     ]
    },
    {
     "name": "stdout",
     "output_type": "stream",
     "text": [
      "38, "
     ]
    },
    {
     "name": "stdout",
     "output_type": "stream",
     "text": [
      "file op edge (123, 95) cars:57.0,speed is now 60.0\n",
      "file op edge (1003, 150) cars:115.0,speed is now 45.0\n"
     ]
    },
    {
     "name": "stdout",
     "output_type": "stream",
     "text": [
      "39, "
     ]
    },
    {
     "name": "stdout",
     "output_type": "stream",
     "text": [
      "40, "
     ]
    },
    {
     "name": "stdout",
     "output_type": "stream",
     "text": [
      "file op edge (1003, 150) cars:132.0,speed is now 40.0\n"
     ]
    },
    {
     "name": "stdout",
     "output_type": "stream",
     "text": [
      "41, "
     ]
    },
    {
     "name": "stdout",
     "output_type": "stream",
     "text": [
      "42, "
     ]
    },
    {
     "name": "stdout",
     "output_type": "stream",
     "text": [
      "file op edge (1003, 150) cars:139.0,speed is now 35.0\n",
      "file op edge (702, 606) cars:40.0,speed is now 30.0\n"
     ]
    },
    {
     "name": "stdout",
     "output_type": "stream",
     "text": [
      "43, "
     ]
    },
    {
     "name": "stdout",
     "output_type": "stream",
     "text": [
      "file op edge (608, 173) cars:66.0,speed is now 49.0\n"
     ]
    },
    {
     "name": "stdout",
     "output_type": "stream",
     "text": [
      "44, "
     ]
    },
    {
     "name": "stdout",
     "output_type": "stream",
     "text": [
      "file op edge (146, 95) cars:121.0,speed is now 100\n"
     ]
    },
    {
     "name": "stdout",
     "output_type": "stream",
     "text": [
      "45, "
     ]
    },
    {
     "name": "stdout",
     "output_type": "stream",
     "text": [
      "46, "
     ]
    },
    {
     "name": "stdout",
     "output_type": "stream",
     "text": [
      "47, "
     ]
    },
    {
     "name": "stdout",
     "output_type": "stream",
     "text": [
      "file op edge (115, 57) cars:33.0,speed is now 100\n"
     ]
    },
    {
     "name": "stdout",
     "output_type": "stream",
     "text": [
      "48, "
     ]
    },
    {
     "name": "stdout",
     "output_type": "stream",
     "text": [
      "file op edge (93, 95) cars:133.0,speed is now 100\n"
     ]
    },
    {
     "name": "stdout",
     "output_type": "stream",
     "text": [
      "49, "
     ]
    },
    {
     "name": "stdout",
     "output_type": "stream",
     "text": [
      "file op edge (607, 606) cars:27.0,speed is now 35.0\n",
      "file op edge (706, 702) cars:32.0,speed is now 35.0\n"
     ]
    },
    {
     "name": "stdout",
     "output_type": "stream",
     "text": [
      "50, "
     ]
    },
    {
     "name": "stdout",
     "output_type": "stream",
     "text": [
      "51, "
     ]
    },
    {
     "name": "stdout",
     "output_type": "stream",
     "text": [
      "file op edge (605, 6) cars:83.0,speed is now 45.5\n",
      "file op edge (700, 1000) cars:29.0,speed is now 24.0\n"
     ]
    },
    {
     "name": "stdout",
     "output_type": "stream",
     "text": [
      "52, "
     ]
    },
    {
     "name": "stdout",
     "output_type": "stream",
     "text": [
      "file op edge (91, 246) cars:294.0,speed is now 100\n",
      "file op edge (93, 95) cars:147.0,speed is now 90.0\n",
      "file op edge (700, 1000) cars:31.0,speed is now 21.0\n"
     ]
    },
    {
     "name": "stdout",
     "output_type": "stream",
     "text": [
      "53, "
     ]
    },
    {
     "name": "stdout",
     "output_type": "stream",
     "text": [
      "54, "
     ]
    },
    {
     "name": "stdout",
     "output_type": "stream",
     "text": [
      "55, "
     ]
    },
    {
     "name": "stdout",
     "output_type": "stream",
     "text": [
      "file op edge (607, 175) cars:104.0,speed is now 45.0\n"
     ]
    },
    {
     "name": "stdout",
     "output_type": "stream",
     "text": [
      "56, "
     ]
    },
    {
     "name": "stdout",
     "output_type": "stream",
     "text": [
      "file op edge (93, 95) cars:166.0,speed is now 80.0\n",
      "file op edge (108, 220) cars:116.0,speed is now 100\n",
      "file op edge (607, 606) cars:30.0,speed is now 30.0\n"
     ]
    },
    {
     "name": "stdout",
     "output_type": "stream",
     "text": [
      "57, "
     ]
    },
    {
     "name": "stdout",
     "output_type": "stream",
     "text": [
      "file op edge (93, 95) cars:190.0,speed is now 70.0\n"
     ]
    },
    {
     "name": "stdout",
     "output_type": "stream",
     "text": [
      "58, "
     ]
    },
    {
     "name": "stdout",
     "output_type": "stream",
     "text": [
      "file op edge (93, 95) cars:212.0,speed is now 60.0\n"
     ]
    },
    {
     "name": "stdout",
     "output_type": "stream",
     "text": [
      "59, "
     ]
    },
    {
     "name": "stdout",
     "output_type": "stream",
     "text": [
      "file op edge (95, 246) cars:96.0,speed is now 100\n"
     ]
    },
    {
     "name": "stdout",
     "output_type": "stream",
     "text": [
      "60, "
     ]
    },
    {
     "name": "stdout",
     "output_type": "stream",
     "text": [
      "file op edge (91, 246) cars:326.0,speed is now 90.0\n",
      "file op edge (608, 173) cars:76.0,speed is now 42.0\n"
     ]
    },
    {
     "name": "stdout",
     "output_type": "stream",
     "text": [
      "61, "
     ]
    },
    {
     "name": "stdout",
     "output_type": "stream",
     "text": [
      "file op edge (205, 204) cars:77.0,speed is now 70\n"
     ]
    },
    {
     "name": "stdout",
     "output_type": "stream",
     "text": [
      "62, "
     ]
    },
    {
     "name": "stdout",
     "output_type": "stream",
     "text": [
      "file op edge (244, 223) cars:148.0,speed is now 70.0\n",
      "file op edge (1003, 503) cars:59.0,speed is now 45.0\n"
     ]
    },
    {
     "name": "stdout",
     "output_type": "stream",
     "text": [
      "63, "
     ]
    },
    {
     "name": "stdout",
     "output_type": "stream",
     "text": [
      "file op edge (246, 95) cars:103.0,speed is now 100\n"
     ]
    },
    {
     "name": "stdout",
     "output_type": "stream",
     "text": [
      "64, "
     ]
    },
    {
     "name": "stdout",
     "output_type": "stream",
     "text": [
      "65, "
     ]
    },
    {
     "name": "stdout",
     "output_type": "stream",
     "text": [
      "66, "
     ]
    },
    {
     "name": "stdout",
     "output_type": "stream",
     "text": [
      "file op edge (150, 149) cars:114.0,speed is now 100\n"
     ]
    },
    {
     "name": "stdout",
     "output_type": "stream",
     "text": [
      "67, "
     ]
    },
    {
     "name": "stdout",
     "output_type": "stream",
     "text": [
      "68, "
     ]
    },
    {
     "name": "stdout",
     "output_type": "stream",
     "text": [
      "69, "
     ]
    },
    {
     "name": "stdout",
     "output_type": "stream",
     "text": [
      "70, "
     ]
    },
    {
     "name": "stdout",
     "output_type": "stream",
     "text": [
      "file op edge (197, 194) cars:37.0,speed is now 80\n"
     ]
    },
    {
     "name": "stdout",
     "output_type": "stream",
     "text": [
      "71, "
     ]
    },
    {
     "name": "stdout",
     "output_type": "stream",
     "text": [
      "file op edge (95, 246) cars:104.0,speed is now 90.0\n",
      "file op edge (605, 6) cars:96.0,speed is now 39.0\n",
      "file op edge (706, 1000) cars:16.0,speed is now 30.0\n"
     ]
    },
    {
     "name": "stdout",
     "output_type": "stream",
     "text": [
      "72, "
     ]
    },
    {
     "name": "stdout",
     "output_type": "stream",
     "text": [
      "73, "
     ]
    },
    {
     "name": "stdout",
     "output_type": "stream",
     "text": [
      "file op edge (502, 138) cars:53.0,speed is now 30\n",
      "file op edge (705, 600) cars:35.0,speed is now 30.0\n"
     ]
    },
    {
     "name": "stdout",
     "output_type": "stream",
     "text": [
      "74, "
     ]
    },
    {
     "name": "stdout",
     "output_type": "stream",
     "text": [
      "file op edge (502, 138) cars:57.0,speed is now 27.0\n"
     ]
    },
    {
     "name": "stdout",
     "output_type": "stream",
     "text": [
      "75, "
     ]
    },
    {
     "name": "stdout",
     "output_type": "stream",
     "text": [
      "file op edge (91, 246) cars:364.0,speed is now 80.0\n",
      "file op edge (241, 240) cars:52.0,speed is now 72.0\n"
     ]
    },
    {
     "name": "stdout",
     "output_type": "stream",
     "text": [
      "76, "
     ]
    },
    {
     "name": "stdout",
     "output_type": "stream",
     "text": [
      "77, "
     ]
    },
    {
     "name": "stdout",
     "output_type": "stream",
     "text": [
      "file op edge (703, 174) cars:37.0,speed is now 80.0\n"
     ]
    },
    {
     "name": "stdout",
     "output_type": "stream",
     "text": [
      "78, "
     ]
    },
    {
     "name": "stdout",
     "output_type": "stream",
     "text": [
      "79, "
     ]
    },
    {
     "name": "stdout",
     "output_type": "stream",
     "text": [
      "80, "
     ]
    },
    {
     "name": "stdout",
     "output_type": "stream",
     "text": [
      "81, "
     ]
    },
    {
     "name": "stdout",
     "output_type": "stream",
     "text": [
      "file op edge (608, 600) cars:34.0,speed is now 50\n"
     ]
    },
    {
     "name": "stdout",
     "output_type": "stream",
     "text": [
      "82, "
     ]
    },
    {
     "name": "stdout",
     "output_type": "stream",
     "text": [
      "83, "
     ]
    },
    {
     "name": "stdout",
     "output_type": "stream",
     "text": [
      "file op edge (91, 246) cars:402.0,speed is now 70.0\n"
     ]
    },
    {
     "name": "stdout",
     "output_type": "stream",
     "text": [
      "84, "
     ]
    },
    {
     "name": "stdout",
     "output_type": "stream",
     "text": [
      "85, "
     ]
    },
    {
     "name": "stdout",
     "output_type": "stream",
     "text": [
      "file op edge (115, 57) cars:36.0,speed is now 90.0\n"
     ]
    },
    {
     "name": "stdout",
     "output_type": "stream",
     "text": [
      "86, "
     ]
    },
    {
     "name": "stdout",
     "output_type": "stream",
     "text": [
      "87, "
     ]
    },
    {
     "name": "stdout",
     "output_type": "stream",
     "text": [
      "88, "
     ]
    },
    {
     "name": "stdout",
     "output_type": "stream",
     "text": [
      "89, "
     ]
    },
    {
     "name": "stdout",
     "output_type": "stream",
     "text": [
      "90, "
     ]
    },
    {
     "name": "stdout",
     "output_type": "stream",
     "text": [
      "file op edge (108, 220) cars:127.0,speed is now 90.0\n",
      "file op edge (150, 1003) cars:111.0,speed is now 45.0\n"
     ]
    },
    {
     "name": "stdout",
     "output_type": "stream",
     "text": [
      "91, "
     ]
    },
    {
     "name": "stdout",
     "output_type": "stream",
     "text": [
      "92, "
     ]
    },
    {
     "name": "stdout",
     "output_type": "stream",
     "text": [
      "file op edge (108, 703) cars:24.0,speed is now 100\n"
     ]
    },
    {
     "name": "stdout",
     "output_type": "stream",
     "text": [
      "93, "
     ]
    },
    {
     "name": "stdout",
     "output_type": "stream",
     "text": [
      "94, "
     ]
    },
    {
     "name": "stdout",
     "output_type": "stream",
     "text": [
      "95, "
     ]
    },
    {
     "name": "stdout",
     "output_type": "stream",
     "text": [
      "96, "
     ]
    },
    {
     "name": "stdout",
     "output_type": "stream",
     "text": [
      "97, "
     ]
    },
    {
     "name": "stdout",
     "output_type": "stream",
     "text": [
      "file op edge (91, 246) cars:460.0,speed is now 60.0\n",
      "file op edge (150, 1003) cars:123.0,speed is now 40.0\n"
     ]
    },
    {
     "name": "stdout",
     "output_type": "stream",
     "text": [
      "98, "
     ]
    },
    {
     "name": "stdout",
     "output_type": "stream",
     "text": [
      "file op edge (1003, 224) cars:65.0,speed is now 40.0\n"
     ]
    },
    {
     "name": "stdout",
     "output_type": "stream",
     "text": [
      "99, "
     ]
    }
   ],
   "source": [
    "minutes_init=0 #initialisation time\n",
    "minutes_sim=180 #simulation time\n",
    "if minutes_simulation: # simulation tag\n",
    "    minutes_sim = minutes_simulation\n",
    "if minutes_initialization:\n",
    "    minutes_init = minutes_initialization\n",
    "\n",
    "sources=nodes_gpd[\"nodeID\"][np.nonzero(nodes_gpd[\"is_auto_br\"])[0]]\n",
    "# sources=[1000,1001,1002]\n",
    "\n",
    "cars_forw=np.zeros((len(lines_gpd),minutes_sim))\n",
    "cars_backw=np.zeros((len(lines_gpd),minutes_sim))\n",
    "capacity=np.zeros((len(lines_gpd),minutes_sim))\n",
    "def tt_avg(f, t, attr):\n",
    "    return attr['object'].tt_avg()+attr['object'].avg_waittime() #average waittime is remaning time plus wait time at end of edge\n",
    "for minute in range(minutes_init):\n",
    "    nx.set_edge_attributes(gfd,{e: (gfd.edges[e][\"object\"].tt_avg()+gfd.nodes[e[0]][\"object\"].avg_waittime(gfd.edges[e][\"object\"]))*(1+gfd.edges[e][\"object\"].size()/gfd.edges[e][\"object\"].C()) for e in gfd.edges},\"tt_avg\") #put edge objects on the edges\n",
    "    paths={n: b for (n, (a, b)) in nx.all_pairs_dijkstra(gfd, weight=\"tt_avg\")}\n",
    "    for i in sources:\n",
    "        # print(i,gfd.nodes[i][\"object\"])\n",
    "        gfd.nodes[i][\"object\"].generate() #generate cars at all sources\n",
    "    for e in gfd.edges:\n",
    "        # print(e,gfd.edges[e][\"object\"])\n",
    "        gfd.edges[e][\"object\"].update()\n",
    "    for n in gfd.nodes:\n",
    "        # print(n,gfd.nodes[n][\"object\"])\n",
    "        gfd.nodes[n][\"object\"].flow()\n",
    "for i in sources: gfd.nodes[i][\"object\"].times=np.zeros((0,2))\n",
    "for minute in range(minutes_sim):\n",
    "    print(minute, end=', ')\n",
    "    nx.set_edge_attributes(gfd,{e: (gfd.edges[e][\"object\"].tt_avg()+gfd.nodes[e[0]][\"object\"].avg_waittime(gfd.edges[e][\"object\"]))*(1+gfd.edges[e][\"object\"].size()/gfd.edges[e][\"object\"].C()) for e in gfd.edges},\"tt_avg\") #put edge objects on the edges\n",
    "    paths={n: b for (n, (a, b)) in nx.all_pairs_dijkstra(gfd, weight=\"tt_avg\")}\n",
    "    for i in sources:\n",
    "    # print(i,gfd.nodes[i][\"object\"])\n",
    "        gfd.nodes[i][\"object\"].generate() #generate cars at all sources\n",
    "    for e in gfd.edges:\n",
    "        # print(e,gfd.edges[e][\"object\"])\n",
    "        gfd.edges[e][\"object\"].update()\n",
    "    for n in gfd.nodes:\n",
    "        # print(n,gfd.nodes[n][\"object\"])\n",
    "        gfd.nodes[n][\"object\"].flow()\n",
    "    for index,(start,end) in enumerate(zip(lines_gpd[\"node_start\"],lines_gpd[\"node_end\"])):\n",
    "        # if (start,end) in gfd.edges:\n",
    "        cars_forw[index,minute]=gfd.edges[(start,end)][\"object\"].size()\n",
    "        cars_backw[index,minute]=gfd.edges[(end,start)][\"object\"].size()\n",
    "        capacity[index,minute]=gfd.edges[(end,start)][\"object\"].C()\n",
    "        # else: continue\n",
    "\n",
    "for i in range(9999):\n",
    "    lines_gpd = lines_gpd.drop(columns=[f'f{i}'], errors='ignore')\n",
    "    lines_gpd = lines_gpd.drop(columns=[f'b{i}'], errors='ignore')\n",
    "\n",
    "cars_forw_pd=pd.DataFrame(cars_forw,columns=[f\"f{i}\" for i in range(minutes_sim)])\n",
    "cars_backw_pd=pd.DataFrame(cars_backw,columns=[f\"b{i}\" for i in range(minutes_sim)])\n",
    "lines_gpd=pd.concat((lines_gpd,pd.DataFrame(cars_forw_pd),cars_backw_pd),axis=1)\n"
   ]
  },
  {
   "cell_type": "code",
   "execution_count": 15,
   "id": "2895c3a6",
   "metadata": {
    "execution": {
     "iopub.execute_input": "2024-10-31T15:47:24.561978Z",
     "iopub.status.busy": "2024-10-31T15:47:24.560976Z",
     "iopub.status.idle": "2024-10-31T15:47:24.717199Z",
     "shell.execute_reply": "2024-10-31T15:47:24.717199Z"
    },
    "papermill": {
     "duration": 0.353072,
     "end_time": "2024-10-31T15:47:24.784929",
     "exception": false,
     "start_time": "2024-10-31T15:47:24.431857",
     "status": "completed"
    },
    "tags": []
   },
   "outputs": [],
   "source": [
    "if save_to:\n",
    "    lines_gpd.to_csv(f'./gendata/{save_to}')"
   ]
  },
  {
   "cell_type": "markdown",
   "id": "423d8c14",
   "metadata": {
    "papermill": {
     "duration": 0.067836,
     "end_time": "2024-10-31T15:47:24.946879",
     "exception": false,
     "start_time": "2024-10-31T15:47:24.879043",
     "status": "completed"
    },
    "tags": []
   },
   "source": [
    "# Analysis"
   ]
  },
  {
   "cell_type": "code",
   "execution_count": 16,
   "id": "414b7c07",
   "metadata": {
    "execution": {
     "iopub.execute_input": "2024-10-31T15:47:25.089426Z",
     "iopub.status.busy": "2024-10-31T15:47:25.089426Z",
     "iopub.status.idle": "2024-10-31T15:47:25.262887Z",
     "shell.execute_reply": "2024-10-31T15:47:25.261891Z"
    },
    "papermill": {
     "duration": 0.384349,
     "end_time": "2024-10-31T15:47:25.398496",
     "exception": false,
     "start_time": "2024-10-31T15:47:25.014147",
     "status": "completed"
    },
    "tags": []
   },
   "outputs": [
    {
     "name": "stdout",
     "output_type": "stream",
     "text": [
      "[0.2 0.2 0.2 0.2 0.2]\n",
      "Average travel time: 49.88304093567251 min\n",
      "Travel time: 39 +11 min\n"
     ]
    },
    {
     "data": {
      "image/png": "[encoded data removed]",
      "text/plain": [
       "<Figure size 640x480 with 1 Axes>"
      ]
     },
     "metadata": {},
     "output_type": "display_data"
    }
   ],
   "source": [
    "node_from = 1000 # 1000\n",
    "node_to = 1006 # 1006\n",
    "exavg = nx.shortest_path_length(gfd, node_from, node_to, weight='tt_avg')\n",
    "t = gfd.nodes[node_to]['object'].times\n",
    "filtje=np.zeros(len(t))\n",
    "for i in leeuwarden: #leeuwarden\n",
    "    filtje=np.logical_or(filtje,t[:,1]==i)\n",
    "t2 = t[filtje, 0]\n",
    "\n",
    "if traveltime_saveto:\n",
    "    t2.tofile(f'./gendata/{traveltime_saveto}')\n",
    "\n",
    "if len(t2) != 0:\n",
    "    N = min(20, 5)\n",
    "    print(np.ones(N)/N)\n",
    "    tavg = np.convolve(t2, np.ones(N)/N, mode='valid')\n",
    "    tavgavg = np.mean(tavg)\n",
    "    print(f\"Average travel time: {tavgavg} min\")\n",
    "    print(f\"Travel time: {exavg:.0f} +{(tavgavg-exavg):.0f} min\")\n",
    "    # print(tavg)\n",
    "    plt.title(f\"Travel times from {node_from} -> {node_to}\")\n",
    "    plt.plot(t2)\n",
    "    plt.plot(tavg)\n",
    "    plt.axhline(y=tavgavg, ls='-.', color='purple', label='average travel time')\n",
    "    plt.axhline(y=exavg, ls='--', color='red', label='expected time without traffic')\n",
    "    plt.ylabel(\"travel time (min)\")\n",
    "    plt.legend()\n",
    "    plt.show()"
   ]
  },
  {
   "cell_type": "code",
   "execution_count": 17,
   "id": "8b9f9c86",
   "metadata": {
    "execution": {
     "iopub.execute_input": "2024-10-31T15:47:25.506229Z",
     "iopub.status.busy": "2024-10-31T15:47:25.506229Z",
     "iopub.status.idle": "2024-10-31T15:47:25.618412Z",
     "shell.execute_reply": "2024-10-31T15:47:25.618412Z"
    },
    "papermill": {
     "duration": 0.325372,
     "end_time": "2024-10-31T15:47:25.772516",
     "exception": false,
     "start_time": "2024-10-31T15:47:25.447144",
     "status": "completed"
    },
    "tags": []
   },
   "outputs": [
    {
     "data": {
      "image/png": "[encoded data removed]",
      "text/plain": [
       "<Figure size 640x480 with 1 Axes>"
      ]
     },
     "metadata": {},
     "output_type": "display_data"
    }
   ],
   "source": [
    "plt.hist(t2, bins=29)\n",
    "plt.show()"
   ]
  },
  {
   "cell_type": "code",
   "execution_count": 18,
   "id": "7a854a85",
   "metadata": {
    "execution": {
     "iopub.execute_input": "2024-10-31T15:47:25.973364Z",
     "iopub.status.busy": "2024-10-31T15:47:25.972030Z",
     "iopub.status.idle": "2024-10-31T15:47:25.975974Z",
     "shell.execute_reply": "2024-10-31T15:47:25.975974Z"
    },
    "papermill": {
     "duration": 0.239527,
     "end_time": "2024-10-31T15:47:26.149306",
     "exception": false,
     "start_time": "2024-10-31T15:47:25.909779",
     "status": "completed"
    },
    "tags": []
   },
   "outputs": [],
   "source": [
    "# 149->91: 22.2\n",
    "# gfd.edges[(149, 189)]['object'].leftthismin_avg"
   ]
  },
  {
   "cell_type": "code",
   "execution_count": 19,
   "id": "2af93465",
   "metadata": {
    "execution": {
     "iopub.execute_input": "2024-10-31T15:47:26.304036Z",
     "iopub.status.busy": "2024-10-31T15:47:26.302728Z",
     "iopub.status.idle": "2024-10-31T15:47:26.307273Z",
     "shell.execute_reply": "2024-10-31T15:47:26.306760Z"
    },
    "papermill": {
     "duration": 0.194588,
     "end_time": "2024-10-31T15:47:26.398859",
     "exception": false,
     "start_time": "2024-10-31T15:47:26.204271",
     "status": "completed"
    },
    "tags": []
   },
   "outputs": [],
   "source": [
    "# gfd.edges[(93, 95)]['object'].leftthismin_avg"
   ]
  },
  {
   "cell_type": "code",
   "execution_count": 20,
   "id": "de92d75b",
   "metadata": {
    "execution": {
     "iopub.execute_input": "2024-10-31T15:47:26.558659Z",
     "iopub.status.busy": "2024-10-31T15:47:26.558659Z",
     "iopub.status.idle": "2024-10-31T15:47:27.154864Z",
     "shell.execute_reply": "2024-10-31T15:47:27.154864Z"
    },
    "papermill": {
     "duration": 0.700348,
     "end_time": "2024-10-31T15:47:27.185907",
     "exception": false,
     "start_time": "2024-10-31T15:47:26.485559",
     "status": "completed"
    },
    "tags": []
   },
   "outputs": [],
   "source": [
    "lines_gpd_copy = lines_gpd.copy()\n",
    "lines_gpd = lines_gpd.explode()\n",
    "\n",
    "line_offset = 850\n",
    "line_offset2 = 150\n",
    "left_shift = lines_gpd.copy()\n",
    "left_shift2 = lines_gpd.copy()\n",
    "\n",
    "# def is_rightsided(geom): # is northeast or southeast\n",
    "#     dx = geom.coords[-1][0] - geom.coords[0][0]\n",
    "#     return dx > 0\n",
    "\n",
    "# left_shift['geometry'] = left_shift.geometry.apply(lambda k: k if is_rightsided(k) else k.reverse())\n",
    "# manual_indices = [137, 103, 280, 164, 80, 123, 85, 86, 173, 175, 176]\n",
    "\n",
    "def update_offset(row):\n",
    "    # if row.name in manual_indices: # row.name is index\n",
    "    #     return row.geometry.offset_curve(line_offset)\n",
    "    return row.geometry.offset_curve(-line_offset)\n",
    "\n",
    "def update_offset2(row):\n",
    "    return row.geometry.offset_curve(-line_offset2)\n",
    "\n",
    "left_shift['geometry'] = left_shift.apply(update_offset, axis=1)\n",
    "left_shift2['geometry'] = left_shift2.apply(update_offset2, axis=1)\n",
    "cities = gpd.read_file('./wegengraaf2/cities.shp').to_crs(epsg=3857)\n",
    "# left_shift[left_shift['node_start'] == 142]"
   ]
  },
  {
   "cell_type": "code",
   "execution_count": 21,
   "id": "f3febb00",
   "metadata": {
    "execution": {
     "iopub.execute_input": "2024-10-31T15:47:27.440946Z",
     "iopub.status.busy": "2024-10-31T15:47:27.440946Z",
     "iopub.status.idle": "2024-10-31T15:47:27.815004Z",
     "shell.execute_reply": "2024-10-31T15:47:27.815004Z"
    },
    "papermill": {
     "duration": 0.596318,
     "end_time": "2024-10-31T15:47:27.880840",
     "exception": false,
     "start_time": "2024-10-31T15:47:27.284522",
     "status": "completed"
    },
    "tags": []
   },
   "outputs": [
    {
     "name": "stderr",
     "output_type": "stream",
     "text": [
      "<timed exec>:4: MatplotlibDeprecationWarning: The get_cmap function was deprecated in Matplotlib 3.7 and will be removed in 3.11. Use ``matplotlib.colormaps[name]`` or ``matplotlib.colormaps.get_cmap()`` or ``pyplot.get_cmap()`` instead.\n",
      "<timed exec>:5: MatplotlibDeprecationWarning: The get_cmap function was deprecated in Matplotlib 3.7 and will be removed in 3.11. Use ``matplotlib.colormaps[name]`` or ``matplotlib.colormaps.get_cmap()`` or ``pyplot.get_cmap()`` instead.\n"
     ]
    },
    {
     "name": "stdout",
     "output_type": "stream",
     "text": [
      "CPU times: total: 109 ms\n",
      "Wall time: 109 ms\n"
     ]
    },
    {
     "data": {
      "image/png": "[encoded data removed]",
      "text/plain": [
       "<Figure size 1600x1600 with 3 Axes>"
      ]
     },
     "metadata": {},
     "output_type": "display_data"
    }
   ],
   "source": [
    "%%time\n",
    "plt.figure(figsize=(8,8), dpi=200)\n",
    "ax = plt.subplot()\n",
    "\n",
    "cmap = plt.cm.get_cmap('autumn_r', 100)\n",
    "cmap2 = plt.cm.get_cmap('cool', 100)\n",
    "\n",
    "cax = plt.axes([0.92, 0.2, 0.05, 0.6])\n",
    "cax2 = plt.axes([0.92+0.1, 0.2, 0.05, 0.6])\n",
    "\n",
    "def update(i):\n",
    "    ax.clear()\n",
    "    ax.set_title(f\"Frame {i}\")\n",
    "\n",
    "    left_shift.plot(ax=ax, column=lines_gpd[f\"b{i}\"]/lines_gpd[\"capacity\"],\n",
    "                    cmap='cool',\n",
    "                    linewidth=0.7+lines_gpd['nbanen']*1.5 + 2*lines_gpd[f\"b{i}\"]/lines_gpd[\"capacity\"],\n",
    "                    zorder=1)\n",
    "    lines_gpd.plot(ax=ax, column=lines_gpd[f\"f{i}\"]/lines_gpd[\"capacity\"],\n",
    "                    cmap='autumn_r',\n",
    "                    linewidth=0.7+lines_gpd['nbanen']*1.5 + 2*lines_gpd[f\"f{i}\"]/lines_gpd[\"capacity\"],\n",
    "                    zorder=1)\n",
    "    \n",
    "    # nodes_gpd.plot(ax=ax, markersize=10, color='black', zorder=2)\n",
    "    cities.plot(ax=ax, \n",
    "            column='population')\n",
    "    cities.apply(lambda x: ax.annotate(text=x['name'], xy=x.geometry.centroid.coords[0], size=8, ha='center', color='white', path_effects=[pe.withStroke(linewidth=4, foreground=\"black\")]), axis=1)\n",
    "        \n",
    "    cx.add_basemap(ax)\n",
    "\n",
    "    \n",
    "    bar_info = plt.cm.ScalarMappable(cmap=cmap, norm=plt.Normalize(vmin=0, vmax=100))\n",
    "    bar_info._A = [] ### geen idee wat dit doet\n",
    "    cbar = plt.colorbar(bar_info, cax=cax, ax=ax)\n",
    "    bar_info = plt.cm.ScalarMappable(cmap=cmap2, norm=plt.Normalize(vmin=0, vmax=100))\n",
    "    bar_info._A = [] ### geen idee wat dit doet\n",
    "    cbar = plt.colorbar(bar_info, cax=cax2, ax=ax)\n",
    "\n",
    "    # plt.tight_layout()\n",
    "    plt.savefig('./img2/%02d.png' % i, dpi=200, bbox_inches='tight')\n",
    "    print('%02d' % i, end=', ')\n",
    "\n",
    "if save_to == None:\n",
    "    for k in range(0, minutes_sim): # minutes_sim\n",
    "        update(k)\n"
   ]
  },
  {
   "cell_type": "code",
   "execution_count": 22,
   "id": "55e3ee76",
   "metadata": {
    "execution": {
     "iopub.execute_input": "2024-10-31T15:47:27.989360Z",
     "iopub.status.busy": "2024-10-31T15:47:27.989360Z",
     "iopub.status.idle": "2024-10-31T15:47:28.335523Z",
     "shell.execute_reply": "2024-10-31T15:47:28.334526Z"
    },
    "papermill": {
     "duration": 0.423168,
     "end_time": "2024-10-31T15:47:28.387608",
     "exception": false,
     "start_time": "2024-10-31T15:47:27.964440",
     "status": "completed"
    },
    "tags": []
   },
   "outputs": [
    {
     "name": "stderr",
     "output_type": "stream",
     "text": [
      "<timed exec>:4: MatplotlibDeprecationWarning: The get_cmap function was deprecated in Matplotlib 3.7 and will be removed in 3.11. Use ``matplotlib.colormaps[name]`` or ``matplotlib.colormaps.get_cmap()`` or ``pyplot.get_cmap()`` instead.\n",
      "<timed exec>:5: MatplotlibDeprecationWarning: The get_cmap function was deprecated in Matplotlib 3.7 and will be removed in 3.11. Use ``matplotlib.colormaps[name]`` or ``matplotlib.colormaps.get_cmap()`` or ``pyplot.get_cmap()`` instead.\n"
     ]
    },
    {
     "name": "stdout",
     "output_type": "stream",
     "text": [
      "CPU times: total: 31.2 ms\n",
      "Wall time: 23.6 ms\n"
     ]
    },
    {
     "data": {
      "image/png": "[encoded data removed]",
      "text/plain": [
       "<Figure size 1600x1600 with 3 Axes>"
      ]
     },
     "metadata": {},
     "output_type": "display_data"
    }
   ],
   "source": [
    "%%time\n",
    "plt.figure(figsize=(8,8), dpi=200)\n",
    "ax = plt.subplot()\n",
    "\n",
    "cmap = plt.cm.get_cmap('autumn_r', 100)\n",
    "cmap2 = plt.cm.get_cmap('cool', 100)\n",
    "\n",
    "cax = plt.axes([0.92, 0.2, 0.05, 0.6])\n",
    "cax2 = plt.axes([0.92+0.1, 0.2, 0.05, 0.6])\n",
    "\n",
    "# left_shift2 = lines_gpd.apply(lambda r: r.geometry.offset_curve(-400), axis=1)\n",
    "\n",
    "def update(i):\n",
    "    ax.clear()\n",
    "    ax.set_xlim(63.5e4, 65.25e4)\n",
    "    ax.set_ylim(7.01e6, 7.025e6)\n",
    "    ax.set_title(f\"Frame {i} (Leeuwarden)\")\n",
    "\n",
    "    left_shift2.plot(ax=ax, column=lines_gpd[f\"b{i}\"]/lines_gpd[\"capacity\"],\n",
    "                    cmap='cool',\n",
    "                    linewidth=0.7+lines_gpd['nbanen']*1.5 + 2*lines_gpd[f\"b{i}\"]/lines_gpd[\"capacity\"],\n",
    "                    zorder=1)\n",
    "    lines_gpd.plot(ax=ax, column=lines_gpd[f\"f{i}\"]/lines_gpd[\"capacity\"],\n",
    "                    cmap='autumn_r',\n",
    "                    linewidth=0.7+lines_gpd['nbanen']*1.5 + 2*lines_gpd[f\"f{i}\"]/lines_gpd[\"capacity\"],\n",
    "                    zorder=1)\n",
    "    \n",
    "    # nodes_gpd.plot(ax=ax, markersize=10, color='black', zorder=2)\n",
    "    # cities.plot(ax=ax, \n",
    "    #         column='population')\n",
    "    # cities.apply(lambda x: ax.annotate(text=x['name'], xy=x.geometry.centroid.coords[0], size=8, ha='center', color='white', path_effects=[pe.withStroke(linewidth=4, foreground=\"black\")]), axis=1)\n",
    "    \n",
    "    cx.add_basemap(ax)\n",
    "\n",
    "    \n",
    "    bar_info = plt.cm.ScalarMappable(cmap=cmap, norm=plt.Normalize(vmin=0, vmax=100))\n",
    "    bar_info._A = [] ### geen idee wat dit doet\n",
    "    cbar = plt.colorbar(bar_info, cax=cax, ax=ax)\n",
    "    bar_info = plt.cm.ScalarMappable(cmap=cmap2, norm=plt.Normalize(vmin=0, vmax=100))\n",
    "    bar_info._A = [] ### geen idee wat dit doet\n",
    "    cbar = plt.colorbar(bar_info, cax=cax2, ax=ax)\n",
    "\n",
    "    # plt.tight_layout()\n",
    "    plt.savefig('./imgleeuw/%02d.png' % i, dpi=200, bbox_inches='tight')\n",
    "    print('%02d' % i, end=', ')\n",
    "\n",
    "if save_to == None:\n",
    "    for k in range(0, minutes_sim): # minutes_sim\n",
    "        update(k)\n"
   ]
  },
  {
   "cell_type": "markdown",
   "id": "c081da88",
   "metadata": {
    "papermill": {
     "duration": 0.042097,
     "end_time": "2024-10-31T15:47:28.471988",
     "exception": false,
     "start_time": "2024-10-31T15:47:28.429891",
     "status": "completed"
    },
    "tags": []
   },
   "source": [
    "# ffmpeg -framerate 1 -i %02d.png -c:v libx264 -pix_fmt yuv420p -r 25 output.mp4 -y"
   ]
  },
  {
   "cell_type": "markdown",
   "id": "0104dcdd",
   "metadata": {
    "papermill": {
     "duration": 0.121257,
     "end_time": "2024-10-31T15:47:28.679737",
     "exception": false,
     "start_time": "2024-10-31T15:47:28.558480",
     "status": "completed"
    },
    "tags": []
   },
   "source": [
    "----"
   ]
  },
  {
   "cell_type": "code",
   "execution_count": 23,
   "id": "889d7cfa",
   "metadata": {
    "execution": {
     "iopub.execute_input": "2024-10-31T15:47:28.777154Z",
     "iopub.status.busy": "2024-10-31T15:47:28.777154Z",
     "iopub.status.idle": "2024-10-31T15:47:28.779904Z",
     "shell.execute_reply": "2024-10-31T15:47:28.779904Z"
    },
    "papermill": {
     "duration": 0.169685,
     "end_time": "2024-10-31T15:47:28.895417",
     "exception": false,
     "start_time": "2024-10-31T15:47:28.725732",
     "status": "completed"
    },
    "tags": []
   },
   "outputs": [],
   "source": [
    "# nodes_gpd[~nodes_gpd['stad_naam'].isnull()]"
   ]
  },
  {
   "cell_type": "code",
   "execution_count": 24,
   "id": "3019ce09",
   "metadata": {
    "execution": {
     "iopub.execute_input": "2024-10-31T15:47:29.042589Z",
     "iopub.status.busy": "2024-10-31T15:47:29.041590Z",
     "iopub.status.idle": "2024-10-31T15:47:29.045210Z",
     "shell.execute_reply": "2024-10-31T15:47:29.045210Z"
    },
    "papermill": {
     "duration": 0.126637,
     "end_time": "2024-10-31T15:47:29.079214",
     "exception": false,
     "start_time": "2024-10-31T15:47:28.952577",
     "status": "completed"
    },
    "tags": []
   },
   "outputs": [],
   "source": [
    "# x, y = nodes_gpd.iloc[156].geometry.coords[0]"
   ]
  },
  {
   "cell_type": "code",
   "execution_count": 25,
   "id": "acaa6896",
   "metadata": {
    "execution": {
     "iopub.execute_input": "2024-10-31T15:47:29.277194Z",
     "iopub.status.busy": "2024-10-31T15:47:29.277194Z",
     "iopub.status.idle": "2024-10-31T15:47:29.280717Z",
     "shell.execute_reply": "2024-10-31T15:47:29.280717Z"
    },
    "papermill": {
     "duration": 0.188034,
     "end_time": "2024-10-31T15:47:29.333609",
     "exception": false,
     "start_time": "2024-10-31T15:47:29.145575",
     "status": "completed"
    },
    "tags": []
   },
   "outputs": [],
   "source": [
    "# nodes_gpd[~nodes_gpd['stad_naam'].isnull()].apply(lambda r: (r['nodeID'], r['stad_naam'], r.geometry.coords[0][0], r.geometry.coords[0][1]), axis=1).to_list()"
   ]
  },
  {
   "cell_type": "code",
   "execution_count": 26,
   "id": "a79c814d",
   "metadata": {
    "execution": {
     "iopub.execute_input": "2024-10-31T15:47:29.472462Z",
     "iopub.status.busy": "2024-10-31T15:47:29.471458Z",
     "iopub.status.idle": "2024-10-31T15:47:29.475253Z",
     "shell.execute_reply": "2024-10-31T15:47:29.475253Z"
    },
    "papermill": {
     "duration": 0.154057,
     "end_time": "2024-10-31T15:47:29.558828",
     "exception": false,
     "start_time": "2024-10-31T15:47:29.404771",
     "status": "completed"
    },
    "tags": []
   },
   "outputs": [],
   "source": [
    "# nx.path_weight(gfd,[1000,248,247,255,87,179,78,10,79,114,99,112,27,28,1008],weight=\"tt_avg\")"
   ]
  },
  {
   "cell_type": "code",
   "execution_count": 27,
   "id": "55d555d7",
   "metadata": {
    "execution": {
     "iopub.execute_input": "2024-10-31T15:47:29.677238Z",
     "iopub.status.busy": "2024-10-31T15:47:29.676230Z",
     "iopub.status.idle": "2024-10-31T15:47:29.679206Z",
     "shell.execute_reply": "2024-10-31T15:47:29.679206Z"
    },
    "papermill": {
     "duration": 0.119007,
     "end_time": "2024-10-31T15:47:29.728412",
     "exception": false,
     "start_time": "2024-10-31T15:47:29.609405",
     "status": "completed"
    },
    "tags": []
   },
   "outputs": [],
   "source": [
    "# for e in gfd.edges:\n",
    "#     if  gfd.edges[e][\"object\"].size()<0.01*gfd.edges[e][\"object\"].C(): print(e,gfd.edges[e][\"object\"].size(),gfd.edges[e][\"object\"].C(),gfd.edges[e][\"tt_avg\"])"
   ]
  },
  {
   "cell_type": "code",
   "execution_count": 28,
   "id": "07f13132",
   "metadata": {
    "execution": {
     "iopub.execute_input": "2024-10-31T15:47:29.913333Z",
     "iopub.status.busy": "2024-10-31T15:47:29.912324Z",
     "iopub.status.idle": "2024-10-31T15:47:29.916179Z",
     "shell.execute_reply": "2024-10-31T15:47:29.915810Z"
    },
    "papermill": {
     "duration": 0.204686,
     "end_time": "2024-10-31T15:47:30.033330",
     "exception": false,
     "start_time": "2024-10-31T15:47:29.828644",
     "status": "completed"
    },
    "tags": []
   },
   "outputs": [],
   "source": [
    "# nx.set_edge_attributes(gfd,{e: (gfd.edges[e][\"object\"].tt_avg()+gfd.nodes[e[0]][\"object\"].avg_waittime(gfd.edges[e][\"object\"]))*(1+gfd.edges[e][\"object\"].size()/gfd.edges[e][\"object\"].C()) for e in gfd.edges},\"tt_avg\") #put edge objects on the edges\n",
    "# path = nx.shortest_path(gfd,1000,1008,weight=\"tt_avg\")\n",
    "# print(path)\n",
    "# for j,i in enumerate(path[:-1]):\n",
    "#     print(i,gfd.edges[(i,path[j+1])][\"object\"].C())"
   ]
  },
  {
   "cell_type": "code",
   "execution_count": 29,
   "id": "6d4bdd17",
   "metadata": {
    "execution": {
     "iopub.execute_input": "2024-10-31T15:47:30.160072Z",
     "iopub.status.busy": "2024-10-31T15:47:30.160072Z",
     "iopub.status.idle": "2024-10-31T15:47:30.163183Z",
     "shell.execute_reply": "2024-10-31T15:47:30.163183Z"
    },
    "papermill": {
     "duration": 0.189868,
     "end_time": "2024-10-31T15:47:30.277678",
     "exception": false,
     "start_time": "2024-10-31T15:47:30.087810",
     "status": "completed"
    },
    "tags": []
   },
   "outputs": [],
   "source": [
    "# # traffic_map[\"cars\"] = data1[:,i]\n",
    "# # traffic_map['textpromt'] = traffic_map['name'].apply(gen_text)\n",
    "# fig, ax = plt.subplots(1, figsize=(15, 8),dpi = 200)\n",
    "# cmap = plt.cm.get_cmap('autumn', 120)\n",
    "# cmap2 = plt.cm.get_cmap('Greens', 120)\n",
    "\n",
    "# nodes_gpd.plot( linewidth=0.1, ax=ax, edgecolor=\".4\")\n",
    "\n",
    "# def update(i):\n",
    "#     ax.clear()\n",
    "#     lines_gpd.plot(ax=ax, column=lines_gpd[f\"f{i}\"]/lines_gpd[\"capacity\"],\n",
    "#                 cmap='Accent',\n",
    "#                 linewidth=3,\n",
    "#                 # legend=True,\n",
    "#                 # legend_kwds={'label': 'Aantal banen', 'shrink': 0.6},\n",
    "#                 zorder=1)\n",
    "#     nodes_gpd.plot(ax=ax, markersize=25, color='black', zorder=2)\n",
    "\n",
    "\n",
    "#     # ax.clear()\n",
    "    \n",
    "#     #plotting edges colored by fractions of capacity\n",
    "#     # lines_gpd.plot(column=lines_gpd[f\"f{i}\"]/lines_gpd[\"capacity\"], cmap=cmap, linewidth=0.4, ax=ax,vmin=0,vmax=1)\n",
    "#     # lines_gpd.apply(lambda x: ax.annotate(text=f\"{x['f59']/x['capacity']:.2f}\" , xy=x.geometry.centroid.coords[0], ha='center') if x['f59']/x['capacity']>0.9 else 0, axis=1)\n",
    "# anim = FuncAnimation(fig,update,interval = 100)\n",
    "\n",
    "# #create a colorr barr\n",
    "# cax = fig.add_axes([0.92, 0.1, 0.02, 0.78])  # Adjust the position and size as needed\n",
    "# bar_info = plt.cm.ScalarMappable(cmap=cmap, norm=plt.Normalize(vmin=0, vmax=100))\n",
    "# bar_info._A = [] ### geen idee wat dit doet\n",
    "# cbar = fig.colorbar(bar_info, cax=cax)\n"
   ]
  },
  {
   "cell_type": "code",
   "execution_count": 30,
   "id": "82b6737a",
   "metadata": {
    "execution": {
     "iopub.execute_input": "2024-10-31T15:47:30.437353Z",
     "iopub.status.busy": "2024-10-31T15:47:30.437353Z",
     "iopub.status.idle": "2024-10-31T15:47:30.439573Z",
     "shell.execute_reply": "2024-10-31T15:47:30.439573Z"
    },
    "papermill": {
     "duration": 0.152326,
     "end_time": "2024-10-31T15:47:30.464063",
     "exception": false,
     "start_time": "2024-10-31T15:47:30.311737",
     "status": "completed"
    },
    "tags": []
   },
   "outputs": [],
   "source": [
    "# print(sources)\n",
    "# for i in sources:\n",
    "#     print(len(gfd.nodes[i][\"object\"].times),\"cars arrived at\", i)\n",
    "#     print(len(gfd.nodes[i][\"object\"].buildup))"
   ]
  },
  {
   "cell_type": "code",
   "execution_count": 31,
   "id": "ab47d677",
   "metadata": {
    "execution": {
     "iopub.execute_input": "2024-10-31T15:47:30.563258Z",
     "iopub.status.busy": "2024-10-31T15:47:30.562262Z",
     "iopub.status.idle": "2024-10-31T15:47:30.566208Z",
     "shell.execute_reply": "2024-10-31T15:47:30.565411Z"
    },
    "papermill": {
     "duration": 0.103027,
     "end_time": "2024-10-31T15:47:30.629079",
     "exception": false,
     "start_time": "2024-10-31T15:47:30.526052",
     "status": "completed"
    },
    "tags": []
   },
   "outputs": [],
   "source": [
    "# for i in sources:\n",
    "#     for j in sources:\n",
    "#         if i==j: continue\n",
    "#         data = gfd.nodes[i][\"object\"].times[gfd.nodes[i][\"object\"].times[:,1]==j,0]\n",
    "#         if np.sum(gfd.nodes[i][\"object\"].times[:,1]==j)==0: print(f\"no cars from {j} have arrived at {i}\")\n",
    "#         else:\n",
    "#             plt.hist(data,bins=int((max(data)-min(data))))\n",
    "#             plt.show()\n",
    "#             print(f'average time from {j} to {i} is {np.average(data)} +/- {np.std(data)}')"
   ]
  },
  {
   "cell_type": "markdown",
   "id": "b6c8b387",
   "metadata": {
    "papermill": {
     "duration": 0.050005,
     "end_time": "2024-10-31T15:47:30.762850",
     "exception": false,
     "start_time": "2024-10-31T15:47:30.712845",
     "status": "completed"
    },
    "tags": []
   },
   "source": [
    "### comparing to data on https://staat-van-fryslan.hub.arcgis.com/pages/bda2fb83b28b4707840ee69c05cd0146 and https://opendata.cbs.nl/statline/#/CBS/nl/dataset/82855NED/table?fromstatweb"
   ]
  },
  {
   "cell_type": "code",
   "execution_count": 32,
   "id": "c021e7e4",
   "metadata": {
    "execution": {
     "iopub.execute_input": "2024-10-31T15:47:30.882711Z",
     "iopub.status.busy": "2024-10-31T15:47:30.881712Z",
     "iopub.status.idle": "2024-10-31T15:47:30.885119Z",
     "shell.execute_reply": "2024-10-31T15:47:30.885119Z"
    },
    "papermill": {
     "duration": 0.104118,
     "end_time": "2024-10-31T15:47:30.936093",
     "exception": false,
     "start_time": "2024-10-31T15:47:30.831975",
     "status": "completed"
    },
    "tags": []
   },
   "outputs": [],
   "source": [
    "# arr_forw=np.zeros(len(lines_gpd))\n",
    "# arr_backw=np.zeros(len(lines_gpd))\n",
    "# for index,(start,end) in enumerate(zip(lines_gpd[\"node_start\"],lines_gpd[\"node_end\"])):\n",
    "#     # if (start,end) in gfd.edges:\n",
    "#     arr_forw[index]=gfd.edges[(start,end)][\"object\"].leftthismin_avg\n",
    "#     arr_backw[index]=gfd.edges[(end,start)][\"object\"].leftthismin_avg\n",
    "# saved_gpd=pd.concat((lines_gpd,pd.DataFrame(arr_forw,columns=[\"leftforw\"]),pd.DataFrame(arr_backw,columns=[\"leftback\"])),axis=1)\n",
    "# # saved_gpd.to_csv(\"precookeddata200m\")"
   ]
  },
  {
   "cell_type": "code",
   "execution_count": 33,
   "id": "e6bd9682",
   "metadata": {
    "execution": {
     "iopub.execute_input": "2024-10-31T15:47:31.058826Z",
     "iopub.status.busy": "2024-10-31T15:47:31.058826Z",
     "iopub.status.idle": "2024-10-31T15:47:31.062443Z",
     "shell.execute_reply": "2024-10-31T15:47:31.062443Z"
    },
    "papermill": {
     "duration": 0.064683,
     "end_time": "2024-10-31T15:47:31.083012",
     "exception": false,
     "start_time": "2024-10-31T15:47:31.018329",
     "status": "completed"
    },
    "tags": []
   },
   "outputs": [],
   "source": [
    "# loaded_gpd=saved_gpd\n",
    "# # loaded_gpd=pd.read_csv(\"precookeddata200m\")"
   ]
  },
  {
   "cell_type": "code",
   "execution_count": 34,
   "id": "70767dd9",
   "metadata": {
    "execution": {
     "iopub.execute_input": "2024-10-31T15:47:31.205615Z",
     "iopub.status.busy": "2024-10-31T15:47:31.204617Z",
     "iopub.status.idle": "2024-10-31T15:47:31.210774Z",
     "shell.execute_reply": "2024-10-31T15:47:31.209923Z"
    },
    "papermill": {
     "duration": 0.081604,
     "end_time": "2024-10-31T15:47:31.247767",
     "exception": false,
     "start_time": "2024-10-31T15:47:31.166163",
     "status": "completed"
    },
    "tags": []
   },
   "outputs": [],
   "source": [
    "# f=open(f\"initvalresults\\\\runz{10}\",\"w\")\n",
    "# f.write(f\"settings:{spawn_hoeveelheden}\\n\")\n",
    "# def carspermin(workday_avg,part_during_day=.8):return workday_avg*part_during_day/12/60\n",
    "# def compare_data(edges,counter_id,workday_avg,name,part_during_day=.8):\n",
    "#     # for i in edges: \n",
    "#     #     print(i)\n",
    "#     #     print(loaded_gpd[(loaded_gpd[\"node_start\"]==i[0])*(loaded_gpd[\"node_end\"]==i[1])][\"leftforw\"].iloc[0])\n",
    "#     counts=[]\n",
    "#     for i in edges:\n",
    "#         if len(loaded_gpd[(loaded_gpd[\"node_start\"]==i[0])*(loaded_gpd[\"node_end\"]==i[1])][\"leftforw\"])>=1: counts.append(loaded_gpd[(loaded_gpd[\"node_start\"]==i[0])*(loaded_gpd[\"node_end\"]==i[1])][\"leftforw\"].iloc[0])\n",
    "#         else: counts.append(loaded_gpd[(loaded_gpd[\"node_start\"]==i[1])*(loaded_gpd[\"node_end\"]==i[0])][\"leftback\"].iloc[0])\n",
    "#     line=f\"counter {counter_id}:{carspermin(workday_avg,part_during_day)}, model: {sum(counts)} {counts} name:{name}\"\n",
    "#     print(line)\n",
    "#     return carspermin(workday_avg,part_during_day)-sum(counts),line\n",
    "# # def test_Aweg(lines_gpd,wegnr,measurement):\n",
    "# #     \"\"\"compares the average of the flow of all roadsegments of a highway and compares it with an hourly measurement on the real road\"\"\"\n",
    "# #     model,real=np.average(lines_gpd[\"leftback\"][lines_gpd[\"wegnr\"]==wegnr])+np.average(lines_gpd[\"leftforw\"][lines_gpd[\"wegnr\"]==wegnr]),measurement/60\n",
    "# #     line=f\"A{wegnr}:{real},{model=}\"\n",
    "# #     return real-model, line\n",
    "# counters2=[([(202,35),(35,202)],101608,24097,.807,.5,\"oost Leeuwarden\"),([(72,173),(173,72)],101625,8858,.815,1,\"leeuwarden ZW\"),([(205,206),(206,205),(204,205),(205,204)],(101612,101647),19083+7763,.818,1,\"bergum ZO/ZW\"),([(155,205),(205,155)],101615,18749,.813,1,\"Bergum NW\"),([(240,241),(241,240)],101606,11187,.842,1,\"sneek NO\"),([(164,82),(82,164)],101607,10613,.826,1,\"sneek Z\"),([(502,503),(503,502)],101650,4393,.805,1,\"Heerenveen Zuid\") \\\n",
    "#           ,([(144,172),(172,144)],101673,9766,.798,1,\"Drachten N\"),([(155,63),(63,155)],101614,14396,.822,1,\"Dokkum Z\"),([(176,63),(63,176)],101671,9950,.844,1,\"Dokkum W\"),([(180,207),(207,180)],101601,9822,.817,1,\"Wolvega O\"),([(71,102),(102,71)],101668,11147,.811,1,\"Lemmer W\"),([(136,134),(134,136)],101676,6883,.829,1,\"Harlingen O\"),(([(136,16),(16,136)],101643,2707,.798,1,\"Harlingen N\")),\\\n",
    "#             ([(137,14),(14,137)],101637,3407,.798,1,\"FranekerN\"),([(75,45),(45,75)],101636,2948,.834,1,\"Franeker ZO\"),([(57,152),(152,57)],101623,8660,.816,1,\"Bolsward Z\"),([(115,77),(77,115)],101624,8445,.816,1,\"Bolsward N\"),([(219,160),(160,219),(178,160),(160,178)],(101674,101656),16267+5077,.828,1,\"Oosterwolde N/W\")]\n",
    "# counters_A=[(\"006\",(1946+1870+1647)/3),(\"007\",(1466+1457+1506)/3),(\"031\",(894+877+978)/3),(\"032\",(1209+1276+1447)/3)]\n",
    "# counters=[([(202,35),(35,202)],101608,24097,.807,1,\"oost Leeuwarden\"),([(72,173),(173,72)],101625,8858,.815,1,\"leeuwarden ZW\"),([(205,206),(206,205)],101612,19083,.811,1,\"bergum ZO\"),([(155,205),(205,155)],101615,18749,.813,1,\"Bergum NW\"),([(204,205),(205,204)],101647,7763,.823,1,\"Bergum ZW\"),([(240,241),(241,240)],101606,11187,.842,1,\"sneek NO\"),([(164,82),(82,164)],101607,10613,.826,1,\"sneek Z\"),([(502,503),(503,502)],101650,4393,.805,1,\"Heerenveen Zuid\") \\\n",
    "#           ,([(144,172),(172,144)],101673,9766,.798,1,\"Drachten N\"),([(155,63),(63,155)],101614,14396,.822,1,\"Dokkum Z\"),([(176,63),(63,176)],101671,9950,.844,1,\"Dokkum W\"),([(140,76),(76,140)],101635,3561,.83,1,\"\"),([(180,207),(207,180)],101601,9822,.817,1,\"Wolvega O\"),([(71,102),(102,71)],101668,11147,.811,1,\"Lemmer W\"),([(136,134),(134,136)],101676,6883,.829,1,\"Harlingen O\"),(([(136,16),(16,136)],101643,2707,.798,1,\"Harlingen N\")),\\\n",
    "#             ([(137,14),(14,137)],101637,3407,.798,1,\"FranekerN\"),([(75,45),(45,75)],101636,2948,.834,1,\"Franeker ZO\"),([(57,152),(152,57)],101623,8660,.816,1,\"Bolsward Z\"),([(115,77),(77,115)],101624,8445,.816,1,\"Bolsward N\"),([(219,160),(160,219)],101674,16267,.828,1,\"Oosterwolde N\"),([(178,160),(160,178)],101656,5077,.861,1,\"Oosterwolde W\")]\n",
    "# sq_sum=0\n",
    "# for edges,counter_id,workday_avg,part_during_day,weight,name in counters:\n",
    "#     dist,line=compare_data(edges,counter_id,workday_avg,name,part_during_day)\n",
    "#     f.write(line+\"\\n\")\n",
    "#     sq_sum+=weight*dist**2\n",
    "# # for wegnr,measurement in counters_A:\n",
    "# #     dist,line=test_Aweg(lines_gpd,wegnr,measurement)\n",
    "# #     f.write(line+\"\\n\")\n",
    "# #     sq_sum+=dist**2\n",
    "# f.write(f\"{np.sqrt(sq_sum)}\")\n",
    "# f.close()\n",
    "# print (np.sqrt(sq_sum))"
   ]
  },
  {
   "cell_type": "code",
   "execution_count": 35,
   "id": "6063aa2a",
   "metadata": {
    "execution": {
     "iopub.execute_input": "2024-10-31T15:47:31.338981Z",
     "iopub.status.busy": "2024-10-31T15:47:31.337975Z",
     "iopub.status.idle": "2024-10-31T15:47:31.342894Z",
     "shell.execute_reply": "2024-10-31T15:47:31.341900Z"
    },
    "papermill": {
     "duration": 0.09485,
     "end_time": "2024-10-31T15:47:31.379061",
     "exception": false,
     "start_time": "2024-10-31T15:47:31.284211",
     "status": "completed"
    },
    "tags": []
   },
   "outputs": [],
   "source": [
    "# def test_Aweg(lines_gpd,wegnr,measurement):\n",
    "#     \"\"\"compares the average of the flow of all roadsegments of a highway and compares it with an hourly measurement on the real road\"\"\"\n",
    "#     model,real=np.average(lines_gpd[\"leftback\"][lines_gpd[\"wegnr\"]==wegnr])+np.average(lines_gpd[\"leftforw\"][lines_gpd[\"wegnr\"]==wegnr]),measurement/60\n",
    "#     line=f\"A{wegnr}:{real},{model=}\"\n",
    "#     return real-model, line\n",
    "# wegnr,measurement = counters_A[2]\n",
    "# dist,line=test_Aweg(loaded_gpd,wegnr,measurement)\n",
    "# print(line)"
   ]
  },
  {
   "cell_type": "code",
   "execution_count": 36,
   "id": "23a23a56",
   "metadata": {
    "execution": {
     "iopub.execute_input": "2024-10-31T15:47:31.492771Z",
     "iopub.status.busy": "2024-10-31T15:47:31.492771Z",
     "iopub.status.idle": "2024-10-31T15:47:31.496839Z",
     "shell.execute_reply": "2024-10-31T15:47:31.496135Z"
    },
    "papermill": {
     "duration": 0.076685,
     "end_time": "2024-10-31T15:47:31.513064",
     "exception": false,
     "start_time": "2024-10-31T15:47:31.436379",
     "status": "completed"
    },
    "tags": []
   },
   "outputs": [],
   "source": [
    "# nx.shortest_path(gfd,1000,1004)"
   ]
  },
  {
   "cell_type": "code",
   "execution_count": 37,
   "id": "29f2f8bc",
   "metadata": {
    "execution": {
     "iopub.execute_input": "2024-10-31T15:47:31.627756Z",
     "iopub.status.busy": "2024-10-31T15:47:31.627756Z",
     "iopub.status.idle": "2024-10-31T15:47:31.632029Z",
     "shell.execute_reply": "2024-10-31T15:47:31.631032Z"
    },
    "papermill": {
     "duration": 0.148889,
     "end_time": "2024-10-31T15:47:31.683071",
     "exception": false,
     "start_time": "2024-10-31T15:47:31.534182",
     "status": "completed"
    },
    "tags": []
   },
   "outputs": [],
   "source": [
    "# loaded_gpd=pd.read_csv(\"precookeddata200m\")"
   ]
  },
  {
   "cell_type": "code",
   "execution_count": 38,
   "id": "8d580b56",
   "metadata": {
    "execution": {
     "iopub.execute_input": "2024-10-31T15:47:31.773942Z",
     "iopub.status.busy": "2024-10-31T15:47:31.772943Z",
     "iopub.status.idle": "2024-10-31T15:47:31.778097Z",
     "shell.execute_reply": "2024-10-31T15:47:31.777447Z"
    },
    "papermill": {
     "duration": 0.083302,
     "end_time": "2024-10-31T15:47:31.811989",
     "exception": false,
     "start_time": "2024-10-31T15:47:31.728687",
     "status": "completed"
    },
    "tags": []
   },
   "outputs": [],
   "source": [
    "# def test_Aweg(lines_gpd,wegnr,measurement):\n",
    "#     \"\"\"compares the average of the flow of all roadsegments of a highway and compares it with an hourly measurement on the real road\"\"\"\n",
    "#     model,real=np.average(lines_gpd[\"leftback\"][lines_gpd[\"wegnr\"]==wegnr])+np.average(lines_gpd[\"leftforw\"][lines_gpd[\"wegnr\"]==wegnr]),measurement/60\n",
    "#     line=f\"A{wegnr}:{real},{model=}\"\n",
    "#     return real-model, line\n",
    "# counters_A=[(\"006\",(1946+1870+1647)/3),(\"007\",(1466+1457+1506)/3),(\"031\",(894+877+978)/3),(\"032\",(1209+1276+1447)/3)]\n",
    "# for wegnr,measurement in counters_A:\n",
    "#     dist,line=test_Aweg(loaded_gpd,wegnr,measurement)\n",
    "#     print(dist,line)"
   ]
  },
  {
   "cell_type": "code",
   "execution_count": 39,
   "id": "d1be3ace",
   "metadata": {
    "execution": {
     "iopub.execute_input": "2024-10-31T15:47:31.901102Z",
     "iopub.status.busy": "2024-10-31T15:47:31.901102Z",
     "iopub.status.idle": "2024-10-31T15:47:31.904303Z",
     "shell.execute_reply": "2024-10-31T15:47:31.904303Z"
    },
    "papermill": {
     "duration": 0.099443,
     "end_time": "2024-10-31T15:47:31.963362",
     "exception": false,
     "start_time": "2024-10-31T15:47:31.863919",
     "status": "completed"
    },
    "tags": []
   },
   "outputs": [],
   "source": [
    "# locations={1000: 'Leeuwarden',\n",
    "#  1001: 'Drachten',\n",
    "#  1002: 'Sneek',\n",
    "#  1004: 'Harlingen',\n",
    "#  1005: 'Joure',\n",
    "#  1006: 'Wolvega',\n",
    "#  1007: 'Franeker',\n",
    "#  1008: 'Dokkum',\n",
    "#  1009: 'Lemmer',\n",
    "#  1010: 'Bolsward',\n",
    "#  1011: 'Burgum',\n",
    "#  1003: 'Heerenveen',\n",
    "#  160: None,\n",
    "#  199: \"Afsluitdijk\"}"
   ]
  }
 ],
 "metadata": {
  "kernelspec": {
   "display_name": "Python 3",
   "language": "python",
   "name": "python3"
  },
  "language_info": {
   "codemirror_mode": {
    "name": "ipython",
    "version": 3
   },
   "file_extension": ".py",
   "mimetype": "text/x-python",
   "name": "python",
   "nbconvert_exporter": "python",
   "pygments_lexer": "ipython3",
   "version": "3.12.7"
  },
  "papermill": {
   "default_parameters": {},
   "duration": 1075.042241,
   "end_time": "2024-10-31T15:47:32.610532",
   "environment_variables": {},
   "exception": null,
   "input_path": "./extended graph model (3).ipynb",
   "output_path": "./gendata/run 2.ipynb",
   "parameters": {
    "minutes_initialization": 50,
    "minutes_simulation": 100,
    "road_modifications": {
     "149000189.0": {
      "nbanen": 3
     },
     "168000169.0": {
      "nbanen": 3
     },
     "169000197.0": {
      "nbanen": 3
     },
     "175000197.0": {
      "nbanen": 3
     },
     "189000168.0": {
      "nbanen": 3
     }
    },
    "save_to": "test2.csv",
    "traveltime_saveto": "traveltime2.bin"
   },
   "start_time": "2024-10-31T15:29:37.568291",
   "version": "2.6.0"
  }
 },
 "nbformat": 4,
 "nbformat_minor": 5
}